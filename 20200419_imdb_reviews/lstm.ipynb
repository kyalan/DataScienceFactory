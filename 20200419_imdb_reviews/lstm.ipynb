{
  "nbformat": 4,
  "nbformat_minor": 0,
  "metadata": {
    "colab": {
      "name": "lstm.ipynb",
      "provenance": [],
      "machine_shape": "hm",
      "authorship_tag": "ABX9TyMvi+/3U2vWKtxXJcPdlETV",
      "include_colab_link": true
    },
    "kernelspec": {
      "name": "python3",
      "display_name": "Python 3"
    },
    "accelerator": "GPU"
  },
  "cells": [
    {
      "cell_type": "markdown",
      "metadata": {
        "id": "view-in-github",
        "colab_type": "text"
      },
      "source": [
        "<a href=\"https://colab.research.google.com/github/kyalan/DataScienceFactory/blob/master/20200419_imdb_reviews/lstm.ipynb\" target=\"_parent\"><img src=\"https://colab.research.google.com/assets/colab-badge.svg\" alt=\"Open In Colab\"/></a>"
      ]
    },
    {
      "cell_type": "code",
      "metadata": {
        "id": "wlMug0o7JxvK",
        "colab_type": "code",
        "colab": {}
      },
      "source": [
        "# Load the TensorBoard notebook extension.\n",
        "# %load_ext tensorboard\n",
        "%matplotlib inline\n",
        "\n",
        "import os, sys\n",
        "import tensorflow as tf\n",
        "import tensorflow_datasets as tfds\n",
        "import pandas as pd\n",
        "import numpy as np\n",
        "from datetime import datetime as dt\n",
        "import sklearn.metrics\n",
        "import seaborn as sns\n",
        "\n",
        "from matplotlib import pyplot as plt"
      ],
      "execution_count": 0,
      "outputs": []
    },
    {
      "cell_type": "code",
      "metadata": {
        "id": "B5SV1uE6KLO1",
        "colab_type": "code",
        "outputId": "081e66f1-f86f-44c0-98b2-cc6e6517d556",
        "colab": {
          "base_uri": "https://localhost:8080/",
          "height": 51
        }
      },
      "source": [
        "try:\n",
        "    %tensorflow_version 2.x\n",
        "except:\n",
        "    pass\n",
        "\n",
        "print(tf.__version__)\n",
        "print(tfds.__version__)"
      ],
      "execution_count": 15,
      "outputs": [
        {
          "output_type": "stream",
          "text": [
            "2.2.0-rc3\n",
            "2.1.0\n"
          ],
          "name": "stdout"
        }
      ]
    },
    {
      "cell_type": "code",
      "metadata": {
        "id": "ayHXMjJyCYrG",
        "colab_type": "code",
        "colab": {}
      },
      "source": [
        "# Check GPU is avaliable\n",
        "assert len(tf.config.list_physical_devices('GPU'))==1"
      ],
      "execution_count": 0,
      "outputs": []
    },
    {
      "cell_type": "markdown",
      "metadata": {
        "id": "nliClJXDJnmU",
        "colab_type": "text"
      },
      "source": [
        "# Import data"
      ]
    },
    {
      "cell_type": "code",
      "metadata": {
        "id": "i1fKbocWJwBd",
        "colab_type": "code",
        "outputId": "00a0d42c-2e6b-46df-9001-d1ed45c8aa20",
        "colab": {
          "base_uri": "https://localhost:8080/",
          "height": 581
        }
      },
      "source": [
        "(ds_train, ds_dev, ds_test), info = tfds.load('imdb_reviews', split=('train[:80%]', 'train[80%:]', 'test')\n",
        "    # , shuffle_files=True\n",
        "    , with_info=True, as_supervised=True)\n",
        "print(info)\n",
        "n_train, n_dev, n_test = len(list(ds_train)), len(list(ds_dev)), len(list(ds_test))\n",
        "print('no. of data for train, dev, test', n_train, n_dev, n_test)"
      ],
      "execution_count": 17,
      "outputs": [
        {
          "output_type": "stream",
          "text": [
            "tfds.core.DatasetInfo(\n",
            "    name='imdb_reviews',\n",
            "    version=1.0.0,\n",
            "    description='Large Movie Review Dataset.\n",
            "This is a dataset for binary sentiment classification containing substantially more data than previous benchmark datasets. We provide a set of 25,000 highly polar movie reviews for training, and 25,000 for testing. There is additional unlabeled data for use as well.',\n",
            "    homepage='http://ai.stanford.edu/~amaas/data/sentiment/',\n",
            "    features=FeaturesDict({\n",
            "        'label': ClassLabel(shape=(), dtype=tf.int64, num_classes=2),\n",
            "        'text': Text(shape=(), dtype=tf.string),\n",
            "    }),\n",
            "    total_num_examples=100000,\n",
            "    splits={\n",
            "        'test': 25000,\n",
            "        'train': 25000,\n",
            "        'unsupervised': 50000,\n",
            "    },\n",
            "    supervised_keys=('text', 'label'),\n",
            "    citation=\"\"\"@InProceedings{maas-EtAl:2011:ACL-HLT2011,\n",
            "      author    = {Maas, Andrew L.  and  Daly, Raymond E.  and  Pham, Peter T.  and  Huang, Dan  and  Ng, Andrew Y.  and  Potts, Christopher},\n",
            "      title     = {Learning Word Vectors for Sentiment Analysis},\n",
            "      booktitle = {Proceedings of the 49th Annual Meeting of the Association for Computational Linguistics: Human Language Technologies},\n",
            "      month     = {June},\n",
            "      year      = {2011},\n",
            "      address   = {Portland, Oregon, USA},\n",
            "      publisher = {Association for Computational Linguistics},\n",
            "      pages     = {142--150},\n",
            "      url       = {http://www.aclweb.org/anthology/P11-1015}\n",
            "    }\"\"\",\n",
            "    redistribution_info=,\n",
            ")\n",
            "\n",
            "no. of data for train, dev, test 20000 5000 25000\n"
          ],
          "name": "stdout"
        }
      ]
    },
    {
      "cell_type": "code",
      "metadata": {
        "id": "O7xeWmNr-GDo",
        "colab_type": "code",
        "outputId": "c250d028-3cbb-4a11-ef73-762fd330ff95",
        "colab": {
          "base_uri": "https://localhost:8080/",
          "height": 51
        }
      },
      "source": [
        "INPUT_SHAPE = info.features['text'].shape\n",
        "LABEL_NAMES = info.features['label'].names\n",
        "N_LABELS = info.features['label'].num_classes\n",
        "print('INPUT_SHAPE shape:{}'.format(INPUT_SHAPE))\n",
        "print('LABEL_NAMES:{}'.format(LABEL_NAMES))"
      ],
      "execution_count": 18,
      "outputs": [
        {
          "output_type": "stream",
          "text": [
            "INPUT_SHAPE shape:()\n",
            "LABEL_NAMES:['neg', 'pos']\n"
          ],
          "name": "stdout"
        }
      ]
    },
    {
      "cell_type": "code",
      "metadata": {
        "id": "MXWr1d0GL0QU",
        "colab_type": "code",
        "outputId": "73246c4f-923c-4919-9faf-aa6eba4aa6d5",
        "colab": {
          "base_uri": "https://localhost:8080/",
          "height": 71
        }
      },
      "source": [
        "# check data structure\n",
        "for txt, label in ds_train.take(1):\n",
        "    print(txt.numpy().decode())\n",
        "    print('LABEL: {} - {}'.format(label.numpy(), LABEL_NAMES[label]))"
      ],
      "execution_count": 19,
      "outputs": [
        {
          "output_type": "stream",
          "text": [
            "This was an absolutely terrible movie. Don't be lured in by Christopher Walken or Michael Ironside. Both are great actors, but this must simply be their worst role in history. Even their great acting could not redeem this movie's ridiculous storyline. This movie is an early nineties US propaganda piece. The most pathetic scenes were those when the Columbian rebels were making their cases for revolutions. Maria Conchita Alonso appeared phony, and her pseudo-love affair with Walken was nothing but a pathetic emotional plug in a movie that was devoid of any real meaning. I am disappointed that there are movies like this, ruining actor's like Christopher Walken's good name. I could barely sit through it.\n",
            "LABEL: 0 - neg\n"
          ],
          "name": "stdout"
        }
      ]
    },
    {
      "cell_type": "code",
      "metadata": {
        "id": "DFsaXWM_6CZn",
        "colab_type": "code",
        "outputId": "ca7604f2-71e4-4b35-8c98-a21b55ec8a5c",
        "colab": {
          "base_uri": "https://localhost:8080/",
          "height": 105
        }
      },
      "source": [
        "for i in range(N_LABELS):\n",
        "    ds_temp_train = ds_train.filter(lambda img, label: label==i)\n",
        "    for txt, label in ds_temp_train.take(1):\n",
        "        print(txt.numpy().decode())\n",
        "        print('LABEL: {} - {}'.format(label.numpy(), LABEL_NAMES[label]))"
      ],
      "execution_count": 20,
      "outputs": [
        {
          "output_type": "stream",
          "text": [
            "This was an absolutely terrible movie. Don't be lured in by Christopher Walken or Michael Ironside. Both are great actors, but this must simply be their worst role in history. Even their great acting could not redeem this movie's ridiculous storyline. This movie is an early nineties US propaganda piece. The most pathetic scenes were those when the Columbian rebels were making their cases for revolutions. Maria Conchita Alonso appeared phony, and her pseudo-love affair with Walken was nothing but a pathetic emotional plug in a movie that was devoid of any real meaning. I am disappointed that there are movies like this, ruining actor's like Christopher Walken's good name. I could barely sit through it.\n",
            "LABEL: 0 - neg\n",
            "This is the kind of film for a snowy Sunday afternoon when the rest of the world can go ahead with its own business as you descend into a big arm-chair and mellow for a couple of hours. Wonderful performances from Cher and Nicolas Cage (as always) gently row the plot along. There are no rapids to cross, no dangerous waters, just a warm and witty paddle through New York life at its best. A family film in every sense and one that deserves the praise it received.\n",
            "LABEL: 1 - pos\n"
          ],
          "name": "stdout"
        }
      ]
    },
    {
      "cell_type": "markdown",
      "metadata": {
        "id": "yMQfOHNmNt_r",
        "colab_type": "text"
      },
      "source": [
        "# Pre-processing"
      ]
    },
    {
      "cell_type": "code",
      "metadata": {
        "id": "9pPSpbh3EMoB",
        "colab_type": "code",
        "colab": {}
      },
      "source": [
        "# Embedded layer construction\n",
        "from tensorflow.keras.preprocessing.text import Tokenizer\n",
        "from tensorflow.keras.preprocessing.sequence import pad_sequences\n",
        "from itertools import chain\n",
        "\n",
        "VOCAB_SIZE = 1000\n",
        "EMBEDDING_DIM = 16\n",
        "MAX_LENGTH = 120\n",
        "TRUNC_TYPE='post'\n",
        "PADDING_TYPE='post'\n",
        "OOV_TOK = \"<OOV>\"\n",
        "\n",
        "# Train the tokenizer\n",
        "tokenizer = Tokenizer(num_words = VOCAB_SIZE, oov_token=OOV_TOK)\n",
        "sentences = [txts.numpy().decode() for txts, _ in ds_train]\n",
        "tokenizer.fit_on_texts(sentences)\n",
        "\n",
        "word_index = tokenizer.word_index"
      ],
      "execution_count": 0,
      "outputs": []
    },
    {
      "cell_type": "code",
      "metadata": {
        "id": "5YwXydhHqJbJ",
        "colab_type": "code",
        "colab": {}
      },
      "source": [
        "def padder(sentences):\n",
        "    # word embedder\n",
        "    sequences = tokenizer.texts_to_sequences([x.decode() for x in sentences.numpy()])\n",
        "    padded = pad_sequences(sequences, padding=PADDING_TYPE, maxlen=MAX_LENGTH)\n",
        "    return padded\n",
        "\n",
        "padded_train, label_train = next(iter(ds_train.batch(n_train).take(1)))\n",
        "padded_train = padder(padded_train)\n",
        "padded_dev, label_dev = next(iter(ds_train.batch(n_dev).take(1)))\n",
        "padded_dev = padder(padded_dev)\n",
        "\n",
        "print(padded_train.shape, label_train.shape, padded_dev.shape, label_dev.shape)"
      ],
      "execution_count": 0,
      "outputs": []
    },
    {
      "cell_type": "code",
      "metadata": {
        "id": "azD50Lr8OFty",
        "colab_type": "code",
        "colab": {}
      },
      "source": [
        "# ds_train = ds_train.cache().shuffle(n_train).batch(128).prefetch(tf.data.experimental.AUTOTUNE)\n",
        "# ds_dev = ds_dev.batch(128).cache().prefetch(tf.data.experimental.AUTOTUNE)\n",
        "\n",
        "# ds_train_padded = ds_train_padded.shuffle(n_train).batch(128)\n",
        "# ds_dev_padded = ds_dev_padded.batch(128)"
      ],
      "execution_count": 0,
      "outputs": []
    },
    {
      "cell_type": "markdown",
      "metadata": {
        "id": "RorKRcXCOrFF",
        "colab_type": "text"
      },
      "source": [
        "# Modeling"
      ]
    },
    {
      "cell_type": "code",
      "metadata": {
        "id": "dEYFfR_qPBge",
        "colab_type": "code",
        "colab": {}
      },
      "source": [
        "def getModel():\n",
        "    from tensorflow.keras import Sequential, regularizers\n",
        "    from tensorflow.keras.layers import InputLayer, Lambda, Embedding, Dense, Dropout, Bidirectional, LSTM\n",
        "    from tensorflow.keras.optimizers import Adam\n",
        "\n",
        "    regularizer = regularizers.l2(0.001)\n",
        "\n",
        "    model = Sequential()\n",
        "    # model.add(InputLayer())\n",
        "    # model.add(Lambda(padder))\n",
        "    model.add(Embedding(VOCAB_SIZE+1, EMBEDDING_DIM))\n",
        "    model.add(Bidirectional(LSTM(16)))\n",
        "    model.add(Dense(16, activation='relu', kernel_regularizer=regularizer))\n",
        "    model.add(Dense(2, activation='softmax'))\n",
        "\n",
        "    optimizer = Adam(learning_rate=0.001)\n",
        "    model.compile(optimizer=optimizer, loss='sparse_categorical_crossentropy', metrics=['acc'])\n",
        "    print(model.summary())\n",
        "    return model"
      ],
      "execution_count": 0,
      "outputs": []
    },
    {
      "cell_type": "code",
      "metadata": {
        "id": "PvVTQXZgmPQa",
        "colab_type": "code",
        "colab": {}
      },
      "source": [
        "# Callbacks\n",
        "# from tensorflow.keras.callbacks import EarlyStopping, ReduceLROnPlateau\n",
        "# cb_earlystop = EarlyStopping(patience=10)\n",
        "# cb_learning_rate_reduction = ReduceLROnPlateau(monitor='val_acc', \n",
        "#                                             patience=2, \n",
        "#                                             verbose=1, \n",
        "#                                             factor=0.5, \n",
        "#                                             min_lr=0.00001)\n",
        "\n",
        "# Tensorboards callback setting\n",
        "# Clear logs prior to logging data.\n",
        "# !rm -rf logs\n",
        "\n",
        "# Create log directory\n",
        "# logdir = \"logs/\" + dt.now().strftime(\"%Y%m%d-%H%M%S\")\n",
        "# cb_tensorboard = tf.keras.callbacks.TensorBoard(log_dir=logdir)"
      ],
      "execution_count": 0,
      "outputs": []
    },
    {
      "cell_type": "code",
      "metadata": {
        "id": "7oGYbgo6PDXy",
        "colab_type": "code",
        "outputId": "a2c36535-899f-4fc2-d19d-eb4ec8ed420a",
        "colab": {
          "base_uri": "https://localhost:8080/",
          "height": 510
        }
      },
      "source": [
        "%%time\n",
        "\n",
        "model = getModel()\n",
        "\n",
        "# %tensorboard --logdir logs\n",
        "history = model.fit(x=padded_train, y=label_train\n",
        "                    , epochs=5, validation_data=(padded_dev, label_dev), verbose=1\n",
        "                    # , callbacks=[cb_tensorboard]\n",
        "                    # , callbacks=[cb_earlystop, cb_learning_rate_reduction]\n",
        "                    )"
      ],
      "execution_count": 41,
      "outputs": [
        {
          "output_type": "stream",
          "text": [
            "Model: \"sequential_1\"\n",
            "_________________________________________________________________\n",
            "Layer (type)                 Output Shape              Param #   \n",
            "=================================================================\n",
            "embedding_1 (Embedding)      (None, None, 16)          16016     \n",
            "_________________________________________________________________\n",
            "bidirectional (Bidirectional (None, 32)                4224      \n",
            "_________________________________________________________________\n",
            "dense_2 (Dense)              (None, 16)                528       \n",
            "_________________________________________________________________\n",
            "dense_3 (Dense)              (None, 2)                 34        \n",
            "=================================================================\n",
            "Total params: 20,802\n",
            "Trainable params: 20,802\n",
            "Non-trainable params: 0\n",
            "_________________________________________________________________\n",
            "None\n",
            "Epoch 1/5\n",
            "625/625 [==============================] - 10s 15ms/step - loss: 0.5259 - acc: 0.7239 - val_loss: 0.4329 - val_acc: 0.8072\n",
            "Epoch 2/5\n",
            "625/625 [==============================] - 9s 14ms/step - loss: 0.3770 - acc: 0.8366 - val_loss: 0.3434 - val_acc: 0.8580\n",
            "Epoch 3/5\n",
            "625/625 [==============================] - 9s 14ms/step - loss: 0.3542 - acc: 0.8461 - val_loss: 0.3314 - val_acc: 0.8580\n",
            "Epoch 4/5\n",
            "625/625 [==============================] - 9s 14ms/step - loss: 0.3376 - acc: 0.8561 - val_loss: 0.3304 - val_acc: 0.8668\n",
            "Epoch 5/5\n",
            "625/625 [==============================] - 9s 14ms/step - loss: 0.3275 - acc: 0.8602 - val_loss: 0.3017 - val_acc: 0.8732\n",
            "CPU times: user 1min 1s, sys: 7.31 s, total: 1min 8s\n",
            "Wall time: 52.8 s\n"
          ],
          "name": "stdout"
        }
      ]
    },
    {
      "cell_type": "code",
      "metadata": {
        "id": "spe-0a-Lm1st",
        "colab_type": "code",
        "outputId": "a8ca5590-9a81-45c7-9d35-03145c50525e",
        "colab": {
          "base_uri": "https://localhost:8080/",
          "height": 499
        }
      },
      "source": [
        "def plot_history(history):\n",
        "    hist = history.history\n",
        "    fig = plt.figure(figsize=(18, 8))\n",
        "    iplot = 0\n",
        "    for key in ['loss', 'acc']:\n",
        "        iplot += 1\n",
        "        fig.add_subplot(1, 2, iplot)\n",
        "        plt.xlabel('epoch')\n",
        "        plt.ylabel(key)\n",
        "        plt.plot(range(len(hist[key])), hist[key], label = key)\n",
        "        plt.plot(range(len(hist['val_' + key])), hist['val_' + key], label = 'val_' + key)\n",
        "        plt.legend()\n",
        "    plt.show()\n",
        "\n",
        "plot_history(history)"
      ],
      "execution_count": 42,
      "outputs": [
        {
          "output_type": "display_data",
          "data": {
            "image/png": "[encoded data removed]",
            "text/plain": [
              "<Figure size 1296x576 with 2 Axes>"
            ]
          },
          "metadata": {
            "tags": [],
            "needs_background": "light"
          }
        }
      ]
    },
    {
      "cell_type": "markdown",
      "metadata": {
        "id": "6dFBghbplVMi",
        "colab_type": "text"
      },
      "source": [
        "# Model Evaluation"
      ]
    },
    {
      "cell_type": "code",
      "metadata": {
        "id": "xPaHftHJnApi",
        "colab_type": "code",
        "outputId": "f9cdfe4a-f590-4ca8-c162-90c9d9f76129",
        "colab": {
          "base_uri": "https://localhost:8080/",
          "height": 224
        }
      },
      "source": [
        "padded_test, label_test = next(iter(ds_test.batch(n_test).take(1)))\n",
        "padded_test = padder(padded_test)\n",
        "\n",
        "eval = model.evaluate(padded_test, label_test)\n",
        "print('Test data: Loss = {}, Accuracy = {}'.format(eval[0], eval[1]))\n",
        "print('Right Prediction: {}, Wrong Prediction: {}'.format(eval[1]*n_test, (1.0-eval[1])*n_test))"
      ],
      "execution_count": 43,
      "outputs": [
        {
          "output_type": "stream",
          "text": [
            "tf.Tensor(\n",
            "[b\"There are films that make careers. For George Romero, it was NIGHT OF THE LIVING DEAD; for Kevin Smith, CLERKS; for Robert Rodriguez, EL MARIACHI. Add to that list Onur Tukel's absolutely amazing DING-A-LING-LESS. Flawless film-making, and as assured and as professional as any of the aforementioned movies. I haven't laughed this hard since I saw THE FULL MONTY. (And, even then, I don't think I laughed quite this hard... So to speak.) Tukel's talent is considerable: DING-A-LING-LESS is so chock full of double entendres that one would have to sit down with a copy of this script and do a line-by-line examination of it to fully appreciate the, uh, breadth and width of it. Every shot is beautifully composed (a clear sign of a sure-handed director), and the performances all around are solid (there's none of the over-the-top scenery chewing one might've expected from a film like this). DING-A-LING-LESS is a film whose time has come.\"\n",
            " b\"A blackly comic tale of a down-trodden priest, Nazarin showcases the economy that Luis Bunuel was able to achieve in being able to tell a deeply humanist fable with a minimum of fuss. As an output from his Mexican era of film making, it was an invaluable talent to possess, with little money and extremely tight schedules. Nazarin, however, surpasses many of Bunuel's previous Mexican films in terms of the acting (Francisco Rabal is excellent), narrative and theme.<br /><br />The theme, interestingly, is something that was explored again in Viridiana, made three years later in Spain. It concerns the individual's struggle for humanity and altruism amongst a society that rejects any notion of virtue. Father Nazarin, however, is portrayed more sympathetically than Sister Viridiana. Whereas the latter seems to choose charity because she wishes to atone for her (perceived) sins, Nazarin's whole existence and reason for being seems to be to help others, whether they (or we) like it or not. The film's last scenes, in which he casts doubt on his behaviour and, in a split second, has to choose between the life he has been leading or the conventional life that is expected of a priest, are so emotional because they concern his moral integrity and we are never quite sure whether it remains intact or not.<br /><br />This is a remarkable film and I would urge anyone interested in classic cinema to seek it out. It is one of Bunuel's most moving films, and encapsulates many of his obsessions: frustrated desire, mad love, religious hypocrisy etc. In my view 'Nazarin' is second only to 'The Exterminating Angel', in terms of his Mexican movies, and is certainly near the top of the list of Bunuel's total filmic output.\"\n",
            " b'Scary Movie 1-4, Epic Movie, Date Movie, Meet the Spartans, Not another Teen Movie and Another Gay Movie. Making \"Superhero Movie\" the eleventh in a series that single handily ruined the parody genre. Now I\\'ll admit it I have a soft spot for classics such as Airplane and The Naked Gun but you know you\\'ve milked a franchise so bad when you can see the gags a mile off. In fact the only thing that might really temp you into going to see this disaster is the incredibly funny but massive sell-out Leslie Neilson.<br /><br />You can tell he needs the money, wither that or he intends to go down with the ship like a good Capitan would. In no way is he bringing down this genre but hell he\\'s not helping it. But if I feel sorry for anybody in this film its decent actor Drake Bell who is put through an immense amount of embarrassment. The people who are put through the largest amount of torture by far however is the audience forced to sit through 90 minutes of laughless bile no funnier than herpes.<br /><br />After spoofing disaster films in Airplane!, police shows in The Naked Gun, and Hollywood horrors in Scary Movie 3 and 4, producer David Zucker sets his satirical sights on the superhero genre with this anarchic comedy lampooning everything from Spider-Man to X-Men and Superman Returns.<br /><br />Shortly after being bitten by a genetically altered dragonfly, high-school outcast Rick Riker (Drake Bell) begins to experience a startling transformation. Now Rick\\'s skin is as strong as steel, and he possesses the strength of ten men. Determined to use his newfound powers to fight crime, Rick creates a special costume and assumes the identity of The Dragonfly -- a fearless crime fighter dedicated to keeping the streets safe for law-abiding citizens.<br /><br />But every superhero needs a nemesis, and after Lou Landers (Christopher McDonald) is caught in the middle of an experiment gone horribly awry, he develops the power to leech the life force out of anyone he meets and becomes the villainous Hourglass. Intent on achieving immortality, the Hourglass attempts to gather as much life force as possible as the noble Dragonfly sets out to take down his archenemy and realize his destiny as a true hero. Craig Mazin writes and directs this low-flying spoof.<br /><br />featuring Tracy Morgan, Pamela Anderson, Leslie Nielsen, Marion Ross, Jeffrey Tambor, and Regina Hall.<br /><br />Hell Superhero Movie may earn some merit in the fact that it\\'s a hell of a lot better than Meet the Spartans and Epic Movie. But with great responsibility comes one of the worst outings of 2008 to date. Laughless but a little less irritating than Meet the Spartans. And in the same sense much more forgettable than meet the Spartans. But maybe that\\'s a good reason. There are still some of us trying to scrape away the stain that was Meet the Spartans from our memory.<br /><br />My final verdict? Avoid, unless you\\'re one of thoses people who enjoy such car crash cinema. As bad as Date Movie and Scary Movie 2 but not quite as bad as Meet the Spartans or Epic Movie. Super Villain.'\n",
            " ...\n",
            " b\"Most predicable movie I've ever seen...extremely boring, I feel like I've seen a hundred movies with the same storyline as this one. Acting is OK at best, there's no action really and there is definitely no thrills. Capable actors with terrible script i think it could have been written better by a 10th grader. Felt like more of a chore to watch because I was hoping that there would be something in this movie that was going to set it apart from all the other garbage but this fit right in on the heap. The whole movie I was waiting for something good to happen but it never came. I never rate movies and I never review movies but this movie was so bad that i had to log in here and post a review to try and save a few poor souls from wasting their time (and/or money) with this movie. I pirated it and wish I never even wasted the hard drive space. If I spent 10 bucks to see this in theaters I would kill myself.\"\n",
            " b\"It's exactly what I expected from it. Relaxing, humorous and entertaining. The acting couple was awesome, as well as the scene selection. I personally recommend this. It's kind of the movie that can be seen by whole family at the same time without anyone feeling uncomfortable or getting bored. This cute movie will make you smile, and laugh too. And the action scenes are tasty. Classics of modern american comedy. And very well done.\"\n",
            " b\"They just don't make cartoons like they used to. This one had wit, great characters, and the greatest ensemble of voice over artists ever assembled for a daytime cartoon show. This still remains as one of the highest rated daytime cartoon shows, and one of the most honored, winning several Emmy Awards.\"], shape=(25000,), dtype=string)\n",
            "782/782 [==============================] - 5s 7ms/step - loss: 0.3705 - acc: 0.8342\n",
            "Test data: Loss = 0.37047454714775085, Accuracy = 0.8341599702835083\n",
            "Right Prediction: 20853.999257087708, Wrong Prediction: 4146.0007429122925\n"
          ],
          "name": "stdout"
        }
      ]
    },
    {
      "cell_type": "code",
      "metadata": {
        "id": "gNKq0UfdSZ_X",
        "colab_type": "code",
        "outputId": "58345ff3-6f7d-4417-b2fb-83dca2243197",
        "colab": {
          "base_uri": "https://localhost:8080/",
          "height": 51
        }
      },
      "source": [
        "%%time\n",
        "\n",
        "test_labels = np.array(label_test)\n",
        "test_pred = model.predict(padded_test).argmax(axis=1)"
      ],
      "execution_count": 45,
      "outputs": [
        {
          "output_type": "stream",
          "text": [
            "CPU times: user 6.13 s, sys: 571 ms, total: 6.7 s\n",
            "Wall time: 5.2 s\n"
          ],
          "name": "stdout"
        }
      ]
    },
    {
      "cell_type": "code",
      "metadata": {
        "id": "cY6m3mKocQqh",
        "colab_type": "code",
        "outputId": "f8b57fda-9e5f-42ac-98cc-73e94808e1a7",
        "colab": {
          "base_uri": "https://localhost:8080/",
          "height": 500
        }
      },
      "source": [
        "cm = sklearn.metrics.confusion_matrix(test_labels, test_pred)\n",
        "fig = plt.figure(figsize=(9, 8))\n",
        "sns.heatmap(pd.DataFrame(cm, range(N_LABELS), range(N_LABELS)), annot=True, fmt='d')"
      ],
      "execution_count": 46,
      "outputs": [
        {
          "output_type": "execute_result",
          "data": {
            "text/plain": [
              "<matplotlib.axes._subplots.AxesSubplot at 0x7feff1108390>"
            ]
          },
          "metadata": {
            "tags": []
          },
          "execution_count": 46
        },
        {
          "output_type": "display_data",
          "data": {
            "image/png": "[encoded data removed]",
            "text/plain": [
              "<Figure size 648x576 with 2 Axes>"
            ]
          },
          "metadata": {
            "tags": [],
            "needs_background": "light"
          }
        }
      ]
    },
    {
      "cell_type": "code",
      "metadata": {
        "id": "kFhgPuqBea5i",
        "colab_type": "code",
        "outputId": "d46f3543-36c3-45f2-f2eb-fcc476c19e6b",
        "colab": {
          "base_uri": "https://localhost:8080/",
          "height": 377
        }
      },
      "source": [
        "nrows, ncols = 2, 5\n",
        "\n",
        "itxts = np.where(test_labels!=test_pred)[0]\n",
        "for i in range(10):\n",
        "    itxt = itxts[i]\n",
        "    for txt, label in ds_test.skip(itxt).take(1):\n",
        "        print(txt.numpy().decode())\n",
        "        print('PREDICT: {} - {} ; LABEL: {} - {}'.format(test_pred[itxt], LABEL_NAMES[test_pred[itxt]], label.numpy(), LABEL_NAMES[label]))        "
      ],
      "execution_count": 47,
      "outputs": [
        {
          "output_type": "stream",
          "text": [
            "There are films that make careers. For George Romero, it was NIGHT OF THE LIVING DEAD; for Kevin Smith, CLERKS; for Robert Rodriguez, EL MARIACHI. Add to that list Onur Tukel's absolutely amazing DING-A-LING-LESS. Flawless film-making, and as assured and as professional as any of the aforementioned movies. I haven't laughed this hard since I saw THE FULL MONTY. (And, even then, I don't think I laughed quite this hard... So to speak.) Tukel's talent is considerable: DING-A-LING-LESS is so chock full of double entendres that one would have to sit down with a copy of this script and do a line-by-line examination of it to fully appreciate the, uh, breadth and width of it. Every shot is beautifully composed (a clear sign of a sure-handed director), and the performances all around are solid (there's none of the over-the-top scenery chewing one might've expected from a film like this). DING-A-LING-LESS is a film whose time has come.\n",
            "PREDICT: 0 - neg ; LABEL: 1 - pos\n",
            "As long as you keep in mind that the production of this movie was a copyright ploy, and not intended as a serious release, it is actually surprising how not absolutely horrible it is. I even liked the theme music.<br /><br />And if ever a flick cried out for a treatment by Joel (or Mike) and the MST3K Bots, this is it! Watch this with a bunch of smart-ass wise-crackers, and you're in for a good time. Have a brew, butter up some large pretzels, and enjoy.<br /><br />Of course, obtaining a copy requires buying a bootleg or downloading it as shareware, but if you're here on the IMDb, then you're most likely savvy enough to do so. Good luck.<br /><br />And look for my favorite part....where Dr. Doom informs the FF that they have 12 hours to comply with his wishes....and he actually gestures the number \"12\" with his finger while doing so....it's like \"Evil Sesame Street\"....hoo boy.<br /><br />...and of course Mrs. Storm declaring \"Just look at you....the Fanstastic Four\" is just so heartwarming....you'll laugh, you'll cry.....<br /><br />So if you love schlocky Sci-Fi, this one's Fantastic For you!\n",
            "PREDICT: 1 - pos ; LABEL: 0 - neg\n",
            "The plot line is an expose of the under belly of American politics. While the theme seems common, what \"makes\" the movie is the unconventional way the story is told.<br /><br />The characters are played with conviction. You feel the innocence of the lead, and his innocence lost. The politician is the prince of double-talk, a real snake.<br /><br />The camera work is impressive. It affirms the nuances of the acting and dialogue. Ditto for the music.<br /><br />The story uses a parable-style with vingettes where the message is filled with double-entendres. A very canny strategy by the writer/director. The tension in the storyline is carried through to the last scenes.<br /><br />The movie was like a good mystery book. Something was \"afoot\"; you knew it was bad; you didn't know exactly what it could be - you had your suspicions; and when the evil was revealed you let out your breath you hadn't noticed you were holding in. Saddened, shaking your head.<br /><br />A story well written and well told. 3 cheers to a young writer/director.\n",
            "PREDICT: 0 - neg ; LABEL: 1 - pos\n",
            "Anything Park Chan-wook creates is guaranteed to be unique, brilliant, and very twisted at a minimum. Well, anything that isn't I'm a Cyborg at least. Park's newest film titled Thirst is a vampire romance-erotic-thriller-dark comedy-drama  yes, that is a lot of adjectives  inspired by the 19th century French novel by Emile Zola titled Therese Raquin. Park creates a uniquely Korean, and uniquely Park, vision of the vampire mythos and asks the audience to explore the dilemma of a Catholic priest discovering himself having a thirst for blood and the moral and spiritual crisis that would develop. Park delivers on the elements you would hope but definitely falls short of masterpiece quality like Oldboy or even that of Lady Vengeance. Heavily bloated with a narrative that often loses itself much less the audience, Thirst desperately needed another trip through the cutting room. It crawls when it should be running but luckily brings it back home before losing the audience completely. As negative as it may sound the positives definitely outweigh the negatives and another volume has without a doubt been added to the dark and twisted Zeitgeist of Park Chan-wook film.<br /><br />Check out the rest of our review at www.thefilmstage.com\n",
            "PREDICT: 0 - neg ; LABEL: 1 - pos\n",
            "It's so fake! The plot seems like a generic adaptation of the average blaxploitation film. The common themes of blaxploitation like racism, oppression and fighting for the integrity of your community are outlined so simplistically/shallowly. And the jokes aren't even funny! Dolemite does these stand up monologue comedy routines that are really painful. All the people around him deliver this canned laughter. Even the soundtrack sounds like it's fakin' the funk. For far better comedy in a blaxploitation try \"Coffy\" & \"Friday Foster\" with Pam Grier. For a more realistic blax experience try \"Black Heat\".\n",
            "PREDICT: 1 - pos ; LABEL: 0 - neg\n",
            "as a former TV editor, I can say this is as authentic as it gets. It even led to Letterman's producer (thought to be a source) resigning (eventually) in real life. Letterman was outraged (OK, so one goofy thing is it has him throwing softballs at a tire swing on his estate; total fabrication) but the main information is hilariously true, from the silly bidding war for Letterman once he decided to leave NBC to Leno's problems with an agent who was not ready for big time, but who he let run the show (almost to a disastrous exit) out of his famed loyalty. If any of you kids don't grasp the idea of why Letterman is jealous to this day, see this tape.\n",
            "PREDICT: 0 - neg ; LABEL: 1 - pos\n",
            "You know the saying \"Curiosity Killed The Cat\"? Well, I have heard so much about this film, from a magazine that named this one of the most shocking movies of all time, my 1001 movies you must see before you die, my sister who saw this at a film festival, and the I love the 70's show on VH1. I just had to see this movie since it was named the grossest movie of all time, and well, after viewing this film last night, I have to say that it really did live up to it's title. My God, this movie was so weird! I thought I really did see it all with some of the sickest movies and TV shows I've seen, some things I guess will always still feel like a shock.<br /><br />Well, Babs Johnson, aka Divine, has been named the filthiest person alive and a jealous couple named the Marbles are competing for that title. They want to take Divine out and be named the filthiest couple alive by kidnapping women, raping them, impregnating them, and selling their babies to lesbian couples. But it seems like Divine and her family of well... I don't know, seems to keep the title by having sex with chickens, butt lip syncing, eating dog feces, stuffing meat up their skirts, incest, and it just gets grosser and grosser.<br /><br />Pink Flamingos is horribly acted, horribly made, and well, just plain horrible. The reason for the 10 rating I'm going to give it is due to the fact, well, how could you rate this film? I always rate, so I just figure what the heck? Through the grossness of this film, you have got to give John Waters some credit, who the heck would ever think of this movie over 35 years later? To the cast and crew who worked on this film, you guys are just plain nasty!<br /><br />10/10\n",
            "PREDICT: 0 - neg ; LABEL: 1 - pos\n",
            "Finally! Other people who have actually seen this show! It is the funniest anime I have ever seen, but most people have even heard about it. It is just hilarious. 'And so kintaro will continue to ride his trusty bike and maybe one day, he will save the world....or maybe not'. tare just some classic bits in it 'and so he will ride onto the next city...because he has no choice since his brakes are broken (study study study)' And some of the lessons that he writes down in his little notebook, 'today i had a very educational experience. I tried to look backwards, but unfortunately I was already looking that way. It hurt. Todays lesson, the human head cannot turn 360 degrees.'\n",
            "PREDICT: 0 - neg ; LABEL: 1 - pos\n",
            "I watched this movie about six years ago and I recently did so again. If I remember correctly I did not like it at all the first time and I appreciated it slightly more this second time.<br /><br />This movie is obviously on a big budget. The effects are mostly top notch (except for one or two \"impacts\") and the cast is impressive. However, there are some elements that destroy the overall impression of the show.<br /><br />Firstly, whoever decided that Peter Stormare should act as a crazy Russian astronaut should be fired. Being a Swede and a fan of Peter, I'm pretty sure he can play a Russian character well. But his performance in this case is plain stupid, both with respect the lines uttered and the acting. So... something must be wrong with the script. I'd like to see Peter as a professional Russian astronaut instead.<br /><br />Secondly, the action scenes that take place on the surface are so intense that it is nearly unbearable to watch. It is a total chaos that lasts over thirty minutes with too few moments to catch one's breath. In addition to this, the events that unfold are simply not credible. I'd like to see a much more sensible and stripped down version of this part of the movie.<br /><br />Finally, the scenes that involve flying space shuttles are too action-biased. The shuttles are maneuvering like if they were a couple of MIGs, at zero safety distance, while bouncing off car-sized ice blocks like ping-pong balls. The director should watch Apollo 13 to learn the limitations of spacecraft like these.<br /><br />I like the music score because it is dramatic to a degree making it very touching. The overall performance of the actors is great. Apart from the things mentioned above the story is interesting and quite easy to follow.<br /><br />With some minor changes this would have been a 8/10 movie. I'm sorry it isn't!\n",
            "PREDICT: 1 - pos ; LABEL: 0 - neg\n",
            "I have been collecting Iron Man comics since the early 70s and always enjoyed the character who is far far from the average clean cut hero and his many and varied enemies. There have been no less than three attempts at an animated series for Iron Man and only the original and part of the second have ever done the character justice. So I was somewhat hopeful that this newest version would be good. Boy was I wrong! The DVD art is VERY misleading and presents an image that is not the movie. Fist off the good, what little there is... The art and animation are well drawn and the writing and dialog are generally good, though with notable exceptions. Character voices are very well selected and each character is distinctive and well acted. Now for the bad... Unfortunately the writers opted to totally screw around with both Iron Man's origin and especially the Mandarin's. On top of that they decided to do Iron Man and his opponents all in CGI. Bad CGI. This makes them stand out almost as badly as live actors would in a cartoon. The CG work is often repetitive and glaring shortcuts are taken at times. The CG battles are clumsy as well, further enhancing the fact that CG and line animation do not mix well. The movie would certainly have fared better had they opted to actually DRAW all the characters. Another problem is that Iron Man is in his traditional Red and Gold suit for all of ONE battle! And its not even the big fight at the end. All this drags the movie down and it never picks up.<br /><br />************ SPOILERS (or warnings) MAY FOLLOW ************<br /><br />The movie starts off with an interestingly unusual stop motion credit sequence of machinery, welding and gears. Then we are introduced to what looks like a Chinese temple in the process of being restored, and prominent is a statue of what fans will recognize as the Mandarin. Things go strangely, impeding progress in restoring the temple. Overseeing it is James Rhodes, Tony Stark's long time friend. Seems they plan to actually raise the temple up from the earth, despite opposition by a group who insist that raising the temple will bring about a terrible disaster. Rhodes is captured in a raid. Stark, shown in a hot tub with a lovely lady, is informed of the problems and sets out to personally oversee the project and rescue his friend while in the background his father deals with Board Executives who are pushing to have Tony removed. Tony arrives only to have his armored escort ambushed and blown to pieces. Tony later awakens mortally wounded in the heart and a prisoner of the rebels. He is saved only by quick action from Rhodes and a scientist. Eventually Stark must build the prototype gray iron armor and makes good an escape, but only after some loss of life. While with the rebels he meets a troubled girl named Li Mei, and the two fall in love. The Temple is raised and four elemental beings (all done in CG) appear and proceed to start collecting hidden rings of power. Stark and Rhody find trouble back home but manage to confront the elementals without success in really stopping them, First using the Aquatic Armor, then the more classic Red and Gold Armor and finally everything returns to the temple and Stark is back in the bulky gray armor for a final showdown and a run in with what may be Fin Fang Foom (also in CG.) Here the story takes a major twist as it turns out that the Mandarin needs a host body to manifest. This leads to a somewhat tragic final battle marred by the fact that the Mandarin is little more than a ghost and isn't seen till the last 5 minutes of the movie. ugh...<br /><br />If you are an Iron Man fan then you will likely not enjoy this outing. And even non-fans may well find the movie somewhat lacking or not.\n",
            "PREDICT: 1 - pos ; LABEL: 0 - neg\n"
          ],
          "name": "stdout"
        }
      ]
    },
    {
      "cell_type": "code",
      "metadata": {
        "id": "iZSeXTF0o2Oi",
        "colab_type": "code",
        "colab": {}
      },
      "source": [
        ""
      ],
      "execution_count": 0,
      "outputs": []
    }
  ]
}