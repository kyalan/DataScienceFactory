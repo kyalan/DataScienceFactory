{
  "nbformat": 4,
  "nbformat_minor": 0,
  "metadata": {
    "colab": {
      "provenance": [],
      "authorship_tag": "ABX9TyPMIYz1VpBDCOSf6raVhcbZ",
      "include_colab_link": true
    },
    "kernelspec": {
      "name": "python3",
      "display_name": "Python 3"
    },
    "language_info": {
      "name": "python"
    }
  },
  "cells": [
    {
      "cell_type": "markdown",
      "metadata": {
        "id": "view-in-github",
        "colab_type": "text"
      },
      "source": [
        "<a href=\"https://colab.research.google.com/github/kyalan/DataScienceFactory/blob/master/20230407_OpenAI_API_demo.ipynb\" target=\"_parent\"><img src=\"https://colab.research.google.com/assets/colab-badge.svg\" alt=\"Open In Colab\"/></a>"
      ]
    },
    {
      "cell_type": "code",
      "execution_count": 1,
      "metadata": {
        "colab": {
          "base_uri": "https://localhost:8080/"
        },
        "id": "rVg5J5vGQwvL",
        "outputId": "6e6ccab4-2622-4905-ffb1-6cb01b5b7023"
      },
      "outputs": [
        {
          "output_type": "stream",
          "name": "stdout",
          "text": [
            "Looking in indexes: https://pypi.org/simple, https://us-python.pkg.dev/colab-wheels/public/simple/\n",
            "Collecting openai\n",
            "  Downloading openai-0.27.4-py3-none-any.whl (70 kB)\n",
            "\u001b[2K     \u001b[90m━━━━━━━━━━━━━━━━━━━━━━━━━━━━━━━━━━━━━━━━\u001b[0m \u001b[32m70.3/70.3 KB\u001b[0m \u001b[31m2.9 MB/s\u001b[0m eta \u001b[36m0:00:00\u001b[0m\n",
            "\u001b[?25hCollecting aiohttp\n",
            "  Downloading aiohttp-3.8.4-cp39-cp39-manylinux_2_17_x86_64.manylinux2014_x86_64.whl (1.0 MB)\n",
            "\u001b[2K     \u001b[90m━━━━━━━━━━━━━━━━━━━━━━━━━━━━━━━━━━━━━━━━\u001b[0m \u001b[32m1.0/1.0 MB\u001b[0m \u001b[31m16.6 MB/s\u001b[0m eta \u001b[36m0:00:00\u001b[0m\n",
            "\u001b[?25hRequirement already satisfied: requests>=2.20 in /usr/local/lib/python3.9/dist-packages (from openai) (2.27.1)\n",
            "Requirement already satisfied: tqdm in /usr/local/lib/python3.9/dist-packages (from openai) (4.65.0)\n",
            "Requirement already satisfied: certifi>=2017.4.17 in /usr/local/lib/python3.9/dist-packages (from requests>=2.20->openai) (2022.12.7)\n",
            "Requirement already satisfied: urllib3<1.27,>=1.21.1 in /usr/local/lib/python3.9/dist-packages (from requests>=2.20->openai) (1.26.15)\n",
            "Requirement already satisfied: idna<4,>=2.5 in /usr/local/lib/python3.9/dist-packages (from requests>=2.20->openai) (3.4)\n",
            "Requirement already satisfied: charset-normalizer~=2.0.0 in /usr/local/lib/python3.9/dist-packages (from requests>=2.20->openai) (2.0.12)\n",
            "Collecting frozenlist>=1.1.1\n",
            "  Downloading frozenlist-1.3.3-cp39-cp39-manylinux_2_5_x86_64.manylinux1_x86_64.manylinux_2_17_x86_64.manylinux2014_x86_64.whl (158 kB)\n",
            "\u001b[2K     \u001b[90m━━━━━━━━━━━━━━━━━━━━━━━━━━━━━━━━━━━━━━━\u001b[0m \u001b[32m158.8/158.8 KB\u001b[0m \u001b[31m9.5 MB/s\u001b[0m eta \u001b[36m0:00:00\u001b[0m\n",
            "\u001b[?25hRequirement already satisfied: attrs>=17.3.0 in /usr/local/lib/python3.9/dist-packages (from aiohttp->openai) (22.2.0)\n",
            "Collecting async-timeout<5.0,>=4.0.0a3\n",
            "  Downloading async_timeout-4.0.2-py3-none-any.whl (5.8 kB)\n",
            "Collecting multidict<7.0,>=4.5\n",
            "  Downloading multidict-6.0.4-cp39-cp39-manylinux_2_17_x86_64.manylinux2014_x86_64.whl (114 kB)\n",
            "\u001b[2K     \u001b[90m━━━━━━━━━━━━━━━━━━━━━━━━━━━━━━━━━━━━━━━\u001b[0m \u001b[32m114.2/114.2 KB\u001b[0m \u001b[31m4.4 MB/s\u001b[0m eta \u001b[36m0:00:00\u001b[0m\n",
            "\u001b[?25hCollecting aiosignal>=1.1.2\n",
            "  Downloading aiosignal-1.3.1-py3-none-any.whl (7.6 kB)\n",
            "Collecting yarl<2.0,>=1.0\n",
            "  Downloading yarl-1.8.2-cp39-cp39-manylinux_2_17_x86_64.manylinux2014_x86_64.whl (264 kB)\n",
            "\u001b[2K     \u001b[90m━━━━━━━━━━━━━━━━━━━━━━━━━━━━━━━━━━━━━━━\u001b[0m \u001b[32m264.6/264.6 KB\u001b[0m \u001b[31m8.8 MB/s\u001b[0m eta \u001b[36m0:00:00\u001b[0m\n",
            "\u001b[?25hInstalling collected packages: multidict, frozenlist, async-timeout, yarl, aiosignal, aiohttp, openai\n",
            "Successfully installed aiohttp-3.8.4 aiosignal-1.3.1 async-timeout-4.0.2 frozenlist-1.3.3 multidict-6.0.4 openai-0.27.4 yarl-1.8.2\n"
          ]
        }
      ],
      "source": [
        "!pip install openai"
      ]
    },
    {
      "cell_type": "markdown",
      "source": [
        "# Import packages, and OpenAI key as well"
      ],
      "metadata": {
        "id": "mMAV2CSDC9eQ"
      }
    },
    {
      "cell_type": "code",
      "source": [
        "# Import necessary packages\n",
        "from pathlib import Path\n",
        "import os\n",
        "import openai\n",
        "\n",
        "# Delete the key after using\n",
        "os.environ['OPENAI_API_KEY'] = '<your openai api key>'\n",
        "openai.api_key = os.getenv(\"OPENAI_API_KEY\")\n",
        "\n",
        "print(f'api base = {openai.api_base}')\n"
      ],
      "metadata": {
        "id": "cbI50bT4COWo",
        "colab": {
          "base_uri": "https://localhost:8080/"
        },
        "outputId": "26b16fc6-1807-4d2f-cd5d-f989f9659fba"
      },
      "execution_count": 2,
      "outputs": [
        {
          "output_type": "stream",
          "name": "stdout",
          "text": [
            "api base = https://api.openai.com/v1\n"
          ]
        }
      ]
    },
    {
      "cell_type": "markdown",
      "source": [
        "## Testing OpenAI API"
      ],
      "metadata": {
        "id": "IlC-iXtrgala"
      }
    },
    {
      "cell_type": "code",
      "source": [
        "import openai\n",
        "import pandas as pd\n",
        "\n",
        "# Load all model spec \n",
        "df_modelspec = pd.DataFrame(openai.Model.list()['data'])\n",
        "df_modelspec\n"
      ],
      "metadata": {
        "id": "vBvzEo871P4d",
        "colab": {
          "base_uri": "https://localhost:8080/",
          "height": 423
        },
        "outputId": "986afec2-0b60-4e1e-a817-c0c4d1dc4d15"
      },
      "execution_count": 3,
      "outputs": [
        {
          "output_type": "execute_result",
          "data": {
            "text/plain": [
              "                             id object     created    owned_by  \\\n",
              "0                       babbage  model  1649358449      openai   \n",
              "1                 gpt-3.5-turbo  model  1677610602      openai   \n",
              "2                       davinci  model  1649359874      openai   \n",
              "3         text-davinci-edit-001  model  1649809179      openai   \n",
              "4      babbage-code-search-code  model  1651172509  openai-dev   \n",
              "..                          ...    ...         ...         ...   \n",
              "59  davinci-instruct-beta:2.0.0  model  1629501914      openai   \n",
              "60                 text-ada:001  model  1641949608      system   \n",
              "61             text-davinci:001  model  1641943966      system   \n",
              "62               text-curie:001  model  1641955047      system   \n",
              "63             text-babbage:001  model  1642018370      openai   \n",
              "\n",
              "                                           permission  \\\n",
              "0   [{'id': 'modelperm-49FUp5v084tBB49tC4z8LPH5', ...   \n",
              "1   [{'id': 'modelperm-fTUZTbzFp7uLLTeMSo9ks6oT', ...   \n",
              "2   [{'id': 'modelperm-U6ZwlyAd0LyMk4rcMdz33Yc3', ...   \n",
              "3   [{'id': 'modelperm-otmQSS0hmabtVGHI9QB3bct3', ...   \n",
              "4   [{'id': 'modelperm-4qRnA3Hj8HIJbgo0cGbcmErn', ...   \n",
              "..                                                ...   \n",
              "59  [{'id': 'snapperm-c70U4TBfiOD839xptP5pJzyc', '...   \n",
              "60  [{'id': 'snapperm-d2PSnwFG1Yn9of6PvrrhkBcU', '...   \n",
              "61  [{'id': 'snapperm-Fj1O3zkKXOQy6AkcfQXRKcWA', '...   \n",
              "62  [{'id': 'snapperm-BI9TAT6SCj43JRsUb9CYadsz', '...   \n",
              "63  [{'id': 'snapperm-7oP3WFr9x7qf5xb3eZrVABAH', '...   \n",
              "\n",
              "                           root parent  \n",
              "0                       babbage   None  \n",
              "1                 gpt-3.5-turbo   None  \n",
              "2                       davinci   None  \n",
              "3         text-davinci-edit-001   None  \n",
              "4      babbage-code-search-code   None  \n",
              "..                          ...    ...  \n",
              "59  davinci-instruct-beta:2.0.0   None  \n",
              "60                 text-ada:001   None  \n",
              "61             text-davinci:001   None  \n",
              "62               text-curie:001   None  \n",
              "63             text-babbage:001   None  \n",
              "\n",
              "[64 rows x 7 columns]"
            ],
            "text/html": [
              "\n",
              "  <div id=\"df-5b578813-aeae-4c94-b8db-bb66a163602a\">\n",
              "    <div class=\"colab-df-container\">\n",
              "      <div>\n",
              "<style scoped>\n",
              "    .dataframe tbody tr th:only-of-type {\n",
              "        vertical-align: middle;\n",
              "    }\n",
              "\n",
              "    .dataframe tbody tr th {\n",
              "        vertical-align: top;\n",
              "    }\n",
              "\n",
              "    .dataframe thead th {\n",
              "        text-align: right;\n",
              "    }\n",
              "</style>\n",
              "<table border=\"1\" class=\"dataframe\">\n",
              "  <thead>\n",
              "    <tr style=\"text-align: right;\">\n",
              "      <th></th>\n",
              "      <th>id</th>\n",
              "      <th>object</th>\n",
              "      <th>created</th>\n",
              "      <th>owned_by</th>\n",
              "      <th>permission</th>\n",
              "      <th>root</th>\n",
              "      <th>parent</th>\n",
              "    </tr>\n",
              "  </thead>\n",
              "  <tbody>\n",
              "    <tr>\n",
              "      <th>0</th>\n",
              "      <td>babbage</td>\n",
              "      <td>model</td>\n",
              "      <td>1649358449</td>\n",
              "      <td>openai</td>\n",
              "      <td>[{'id': 'modelperm-49FUp5v084tBB49tC4z8LPH5', ...</td>\n",
              "      <td>babbage</td>\n",
              "      <td>None</td>\n",
              "    </tr>\n",
              "    <tr>\n",
              "      <th>1</th>\n",
              "      <td>gpt-3.5-turbo</td>\n",
              "      <td>model</td>\n",
              "      <td>1677610602</td>\n",
              "      <td>openai</td>\n",
              "      <td>[{'id': 'modelperm-fTUZTbzFp7uLLTeMSo9ks6oT', ...</td>\n",
              "      <td>gpt-3.5-turbo</td>\n",
              "      <td>None</td>\n",
              "    </tr>\n",
              "    <tr>\n",
              "      <th>2</th>\n",
              "      <td>davinci</td>\n",
              "      <td>model</td>\n",
              "      <td>1649359874</td>\n",
              "      <td>openai</td>\n",
              "      <td>[{'id': 'modelperm-U6ZwlyAd0LyMk4rcMdz33Yc3', ...</td>\n",
              "      <td>davinci</td>\n",
              "      <td>None</td>\n",
              "    </tr>\n",
              "    <tr>\n",
              "      <th>3</th>\n",
              "      <td>text-davinci-edit-001</td>\n",
              "      <td>model</td>\n",
              "      <td>1649809179</td>\n",
              "      <td>openai</td>\n",
              "      <td>[{'id': 'modelperm-otmQSS0hmabtVGHI9QB3bct3', ...</td>\n",
              "      <td>text-davinci-edit-001</td>\n",
              "      <td>None</td>\n",
              "    </tr>\n",
              "    <tr>\n",
              "      <th>4</th>\n",
              "      <td>babbage-code-search-code</td>\n",
              "      <td>model</td>\n",
              "      <td>1651172509</td>\n",
              "      <td>openai-dev</td>\n",
              "      <td>[{'id': 'modelperm-4qRnA3Hj8HIJbgo0cGbcmErn', ...</td>\n",
              "      <td>babbage-code-search-code</td>\n",
              "      <td>None</td>\n",
              "    </tr>\n",
              "    <tr>\n",
              "      <th>...</th>\n",
              "      <td>...</td>\n",
              "      <td>...</td>\n",
              "      <td>...</td>\n",
              "      <td>...</td>\n",
              "      <td>...</td>\n",
              "      <td>...</td>\n",
              "      <td>...</td>\n",
              "    </tr>\n",
              "    <tr>\n",
              "      <th>59</th>\n",
              "      <td>davinci-instruct-beta:2.0.0</td>\n",
              "      <td>model</td>\n",
              "      <td>1629501914</td>\n",
              "      <td>openai</td>\n",
              "      <td>[{'id': 'snapperm-c70U4TBfiOD839xptP5pJzyc', '...</td>\n",
              "      <td>davinci-instruct-beta:2.0.0</td>\n",
              "      <td>None</td>\n",
              "    </tr>\n",
              "    <tr>\n",
              "      <th>60</th>\n",
              "      <td>text-ada:001</td>\n",
              "      <td>model</td>\n",
              "      <td>1641949608</td>\n",
              "      <td>system</td>\n",
              "      <td>[{'id': 'snapperm-d2PSnwFG1Yn9of6PvrrhkBcU', '...</td>\n",
              "      <td>text-ada:001</td>\n",
              "      <td>None</td>\n",
              "    </tr>\n",
              "    <tr>\n",
              "      <th>61</th>\n",
              "      <td>text-davinci:001</td>\n",
              "      <td>model</td>\n",
              "      <td>1641943966</td>\n",
              "      <td>system</td>\n",
              "      <td>[{'id': 'snapperm-Fj1O3zkKXOQy6AkcfQXRKcWA', '...</td>\n",
              "      <td>text-davinci:001</td>\n",
              "      <td>None</td>\n",
              "    </tr>\n",
              "    <tr>\n",
              "      <th>62</th>\n",
              "      <td>text-curie:001</td>\n",
              "      <td>model</td>\n",
              "      <td>1641955047</td>\n",
              "      <td>system</td>\n",
              "      <td>[{'id': 'snapperm-BI9TAT6SCj43JRsUb9CYadsz', '...</td>\n",
              "      <td>text-curie:001</td>\n",
              "      <td>None</td>\n",
              "    </tr>\n",
              "    <tr>\n",
              "      <th>63</th>\n",
              "      <td>text-babbage:001</td>\n",
              "      <td>model</td>\n",
              "      <td>1642018370</td>\n",
              "      <td>openai</td>\n",
              "      <td>[{'id': 'snapperm-7oP3WFr9x7qf5xb3eZrVABAH', '...</td>\n",
              "      <td>text-babbage:001</td>\n",
              "      <td>None</td>\n",
              "    </tr>\n",
              "  </tbody>\n",
              "</table>\n",
              "<p>64 rows × 7 columns</p>\n",
              "</div>\n",
              "      <button class=\"colab-df-convert\" onclick=\"convertToInteractive('df-5b578813-aeae-4c94-b8db-bb66a163602a')\"\n",
              "              title=\"Convert this dataframe to an interactive table.\"\n",
              "              style=\"display:none;\">\n",
              "        \n",
              "  <svg xmlns=\"http://www.w3.org/2000/svg\" height=\"24px\"viewBox=\"0 0 24 24\"\n",
              "       width=\"24px\">\n",
              "    <path d=\"M0 0h24v24H0V0z\" fill=\"none\"/>\n",
              "    <path d=\"M18.56 5.44l.94 2.06.94-2.06 2.06-.94-2.06-.94-.94-2.06-.94 2.06-2.06.94zm-11 1L8.5 8.5l.94-2.06 2.06-.94-2.06-.94L8.5 2.5l-.94 2.06-2.06.94zm10 10l.94 2.06.94-2.06 2.06-.94-2.06-.94-.94-2.06-.94 2.06-2.06.94z\"/><path d=\"M17.41 7.96l-1.37-1.37c-.4-.4-.92-.59-1.43-.59-.52 0-1.04.2-1.43.59L10.3 9.45l-7.72 7.72c-.78.78-.78 2.05 0 2.83L4 21.41c.39.39.9.59 1.41.59.51 0 1.02-.2 1.41-.59l7.78-7.78 2.81-2.81c.8-.78.8-2.07 0-2.86zM5.41 20L4 18.59l7.72-7.72 1.47 1.35L5.41 20z\"/>\n",
              "  </svg>\n",
              "      </button>\n",
              "      \n",
              "  <style>\n",
              "    .colab-df-container {\n",
              "      display:flex;\n",
              "      flex-wrap:wrap;\n",
              "      gap: 12px;\n",
              "    }\n",
              "\n",
              "    .colab-df-convert {\n",
              "      background-color: #E8F0FE;\n",
              "      border: none;\n",
              "      border-radius: 50%;\n",
              "      cursor: pointer;\n",
              "      display: none;\n",
              "      fill: #1967D2;\n",
              "      height: 32px;\n",
              "      padding: 0 0 0 0;\n",
              "      width: 32px;\n",
              "    }\n",
              "\n",
              "    .colab-df-convert:hover {\n",
              "      background-color: #E2EBFA;\n",
              "      box-shadow: 0px 1px 2px rgba(60, 64, 67, 0.3), 0px 1px 3px 1px rgba(60, 64, 67, 0.15);\n",
              "      fill: #174EA6;\n",
              "    }\n",
              "\n",
              "    [theme=dark] .colab-df-convert {\n",
              "      background-color: #3B4455;\n",
              "      fill: #D2E3FC;\n",
              "    }\n",
              "\n",
              "    [theme=dark] .colab-df-convert:hover {\n",
              "      background-color: #434B5C;\n",
              "      box-shadow: 0px 1px 3px 1px rgba(0, 0, 0, 0.15);\n",
              "      filter: drop-shadow(0px 1px 2px rgba(0, 0, 0, 0.3));\n",
              "      fill: #FFFFFF;\n",
              "    }\n",
              "  </style>\n",
              "\n",
              "      <script>\n",
              "        const buttonEl =\n",
              "          document.querySelector('#df-5b578813-aeae-4c94-b8db-bb66a163602a button.colab-df-convert');\n",
              "        buttonEl.style.display =\n",
              "          google.colab.kernel.accessAllowed ? 'block' : 'none';\n",
              "\n",
              "        async function convertToInteractive(key) {\n",
              "          const element = document.querySelector('#df-5b578813-aeae-4c94-b8db-bb66a163602a');\n",
              "          const dataTable =\n",
              "            await google.colab.kernel.invokeFunction('convertToInteractive',\n",
              "                                                     [key], {});\n",
              "          if (!dataTable) return;\n",
              "\n",
              "          const docLinkHtml = 'Like what you see? Visit the ' +\n",
              "            '<a target=\"_blank\" href=https://colab.research.google.com/notebooks/data_table.ipynb>data table notebook</a>'\n",
              "            + ' to learn more about interactive tables.';\n",
              "          element.innerHTML = '';\n",
              "          dataTable['output_type'] = 'display_data';\n",
              "          await google.colab.output.renderOutput(dataTable, element);\n",
              "          const docLink = document.createElement('div');\n",
              "          docLink.innerHTML = docLinkHtml;\n",
              "          element.appendChild(docLink);\n",
              "        }\n",
              "      </script>\n",
              "    </div>\n",
              "  </div>\n",
              "  "
            ]
          },
          "metadata": {},
          "execution_count": 3
        }
      ]
    },
    {
      "cell_type": "markdown",
      "source": [
        "Note the GPT-3.5 model (ChatGPT) is needed to use openai.ChatCompletion"
      ],
      "metadata": {
        "id": "tNazX4KPR6V2"
      }
    },
    {
      "cell_type": "code",
      "source": [
        "completion = openai.ChatCompletion.create(\n",
        "  model=\"gpt-3.5-turbo\",\n",
        "  messages=[\n",
        "    {\"role\": \"user\", \"content\": \"List 5 maritime data science use cases.\"}\n",
        "  ]\n",
        ")\n",
        "\n",
        "print(completion.choices[0].message.content)"
      ],
      "metadata": {
        "colab": {
          "base_uri": "https://localhost:8080/"
        },
        "id": "LvqZrh_I0dXH",
        "outputId": "04319a76-4212-4302-8155-606116486244"
      },
      "execution_count": 8,
      "outputs": [
        {
          "output_type": "stream",
          "name": "stdout",
          "text": [
            "1. Vessel Traffic Management: Maritime data science can be used to monitor and analyze the movement of vessels in real-time to optimize vessel traffic management. This use case can improve port efficiency, minimize delays, and increase safety.\n",
            "\n",
            "2. Predictive Maintenance: Maritime data science can be used to predict and prevent equipment failures, schedule maintenance, and avoid costly downtime. This use case can improve vessel reliability, reduce maintenance costs, and increase safety.\n",
            "\n",
            "3. Environmental Monitoring: Maritime data science can be used to monitor and analyze environmental parameters such as water quality, weather conditions, and sea state. This use case can help identify potential hazards, forecast weather events, and ensure compliance with environmental regulations.\n",
            "\n",
            "4. Cargo Optimization: Maritime data science can be used to optimize cargo loading and unloading, route planning, and scheduling. This use case can improve efficiency, reduce fuel consumption, and increase profitability.\n",
            "\n",
            "5. Security and Risk Management: Maritime data science can be used to analyze and identify potential security threats such as piracy, smuggling, or terrorism. This use case can help prevent incidents, improve emergency response, and increase safety for crew and passengers.\n"
          ]
        }
      ]
    },
    {
      "cell_type": "markdown",
      "source": [
        "for the others (GPT-3 , GPT-4), openai.Completion is needed"
      ],
      "metadata": {
        "id": "Anf_un4QR-5v"
      }
    },
    {
      "cell_type": "code",
      "source": [
        "completion = openai.Completion.create(\n",
        "  model=\"text-davinci-003\",  \n",
        "  prompt=\"List 5 maritime data science use cases.\",\n",
        "  max_tokens=128,   # controlling the no. of output token\n",
        "  temperature=0     # output is stable or random\n",
        ")\n",
        "\n",
        "print(completion.choices[0].text)"
      ],
      "metadata": {
        "colab": {
          "base_uri": "https://localhost:8080/"
        },
        "outputId": "b6c25b7e-98d2-41b9-a7c2-f9881e2c3cc9",
        "id": "qOfh52JXRvkf"
      },
      "execution_count": 9,
      "outputs": [
        {
          "output_type": "stream",
          "name": "stdout",
          "text": [
            "\n",
            "\n",
            "1. Vessel Performance Monitoring: Using data science to monitor and analyze vessel performance, such as fuel consumption, speed, and engine performance.\n",
            "\n",
            "2. Maritime Risk Management: Using data science to identify and mitigate risks associated with maritime operations, such as weather, piracy, and navigation hazards.\n",
            "\n",
            "3. Maritime Traffic Analysis: Using data science to analyze maritime traffic patterns, such as vessel movements, port calls, and cargo types.\n",
            "\n",
            "4. Maritime Security: Using data science to detect and prevent security threats, such as illegal fishing, smuggling, and terrorism.\n",
            "\n",
            "5. Maritime Logistics Optimization: Using data\n"
          ]
        }
      ]
    },
    {
      "cell_type": "code",
      "source": [],
      "metadata": {
        "id": "BI5OKd23T8Xl"
      },
      "execution_count": null,
      "outputs": []
    }
  ]
}