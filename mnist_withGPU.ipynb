{
  "nbformat": 4,
  "nbformat_minor": 0,
  "metadata": {
    "colab": {
      "name": "mnist_withGPU.ipynb",
      "provenance": [],
      "authorship_tag": "ABX9TyMEVvkqd5y/MKEg/X4MlSbw",
      "include_colab_link": true
    },
    "kernelspec": {
      "name": "python3",
      "display_name": "Python 3"
    },
    "accelerator": "GPU",
    "widgets": {
      "application/vnd.jupyter.widget-state+json": {
        "23525742202f4e11889de89d0edf0736": {
          "model_module": "@jupyter-widgets/controls",
          "model_name": "HBoxModel",
          "state": {
            "_view_name": "HBoxView",
            "_dom_classes": [],
            "_model_name": "HBoxModel",
            "_view_module": "@jupyter-widgets/controls",
            "_model_module_version": "1.5.0",
            "_view_count": null,
            "_view_module_version": "1.5.0",
            "box_style": "",
            "layout": "IPY_MODEL_6b7da9bcef2242a08eba5389aa59b2da",
            "_model_module": "@jupyter-widgets/controls",
            "children": [
              "IPY_MODEL_67888743f8dc43b2bad190ca6c519b49",
              "IPY_MODEL_3c503ebdc87c4587b6d8ea2e201bf90e"
            ]
          }
        },
        "6b7da9bcef2242a08eba5389aa59b2da": {
          "model_module": "@jupyter-widgets/base",
          "model_name": "LayoutModel",
          "state": {
            "_view_name": "LayoutView",
            "grid_template_rows": null,
            "right": null,
            "justify_content": null,
            "_view_module": "@jupyter-widgets/base",
            "overflow": null,
            "_model_module_version": "1.2.0",
            "_view_count": null,
            "flex_flow": null,
            "width": null,
            "min_width": null,
            "border": null,
            "align_items": null,
            "bottom": null,
            "_model_module": "@jupyter-widgets/base",
            "top": null,
            "grid_column": null,
            "overflow_y": null,
            "overflow_x": null,
            "grid_auto_flow": null,
            "grid_area": null,
            "grid_template_columns": null,
            "flex": null,
            "_model_name": "LayoutModel",
            "justify_items": null,
            "grid_row": null,
            "max_height": null,
            "align_content": null,
            "visibility": null,
            "align_self": null,
            "height": null,
            "min_height": null,
            "padding": null,
            "grid_auto_rows": null,
            "grid_gap": null,
            "max_width": null,
            "order": null,
            "_view_module_version": "1.2.0",
            "grid_template_areas": null,
            "object_position": null,
            "object_fit": null,
            "grid_auto_columns": null,
            "margin": null,
            "display": null,
            "left": null
          }
        },
        "67888743f8dc43b2bad190ca6c519b49": {
          "model_module": "@jupyter-widgets/controls",
          "model_name": "IntProgressModel",
          "state": {
            "_view_name": "ProgressView",
            "style": "IPY_MODEL_8266e9e52d9744b1b82ec1eda669d61f",
            "_dom_classes": [],
            "description": "Dl Completed...: 100%",
            "_model_name": "IntProgressModel",
            "bar_style": "success",
            "max": 4,
            "_view_module": "@jupyter-widgets/controls",
            "_model_module_version": "1.5.0",
            "value": 4,
            "_view_count": null,
            "_view_module_version": "1.5.0",
            "orientation": "horizontal",
            "min": 0,
            "description_tooltip": null,
            "_model_module": "@jupyter-widgets/controls",
            "layout": "IPY_MODEL_c92dac7344ae4e5f8452a600f371b93f"
          }
        },
        "3c503ebdc87c4587b6d8ea2e201bf90e": {
          "model_module": "@jupyter-widgets/controls",
          "model_name": "HTMLModel",
          "state": {
            "_view_name": "HTMLView",
            "style": "IPY_MODEL_391de2115b8c4e96868b86a7cc23b596",
            "_dom_classes": [],
            "description": "",
            "_model_name": "HTMLModel",
            "placeholder": "​",
            "_view_module": "@jupyter-widgets/controls",
            "_model_module_version": "1.5.0",
            "value": " 4/4 [00:07&lt;00:00,  2.00s/ file]",
            "_view_count": null,
            "_view_module_version": "1.5.0",
            "description_tooltip": null,
            "_model_module": "@jupyter-widgets/controls",
            "layout": "IPY_MODEL_3f068f8949494059ba61d0524f0d98ff"
          }
        },
        "8266e9e52d9744b1b82ec1eda669d61f": {
          "model_module": "@jupyter-widgets/controls",
          "model_name": "ProgressStyleModel",
          "state": {
            "_view_name": "StyleView",
            "_model_name": "ProgressStyleModel",
            "description_width": "initial",
            "_view_module": "@jupyter-widgets/base",
            "_model_module_version": "1.5.0",
            "_view_count": null,
            "_view_module_version": "1.2.0",
            "bar_color": null,
            "_model_module": "@jupyter-widgets/controls"
          }
        },
        "c92dac7344ae4e5f8452a600f371b93f": {
          "model_module": "@jupyter-widgets/base",
          "model_name": "LayoutModel",
          "state": {
            "_view_name": "LayoutView",
            "grid_template_rows": null,
            "right": null,
            "justify_content": null,
            "_view_module": "@jupyter-widgets/base",
            "overflow": null,
            "_model_module_version": "1.2.0",
            "_view_count": null,
            "flex_flow": null,
            "width": null,
            "min_width": null,
            "border": null,
            "align_items": null,
            "bottom": null,
            "_model_module": "@jupyter-widgets/base",
            "top": null,
            "grid_column": null,
            "overflow_y": null,
            "overflow_x": null,
            "grid_auto_flow": null,
            "grid_area": null,
            "grid_template_columns": null,
            "flex": null,
            "_model_name": "LayoutModel",
            "justify_items": null,
            "grid_row": null,
            "max_height": null,
            "align_content": null,
            "visibility": null,
            "align_self": null,
            "height": null,
            "min_height": null,
            "padding": null,
            "grid_auto_rows": null,
            "grid_gap": null,
            "max_width": null,
            "order": null,
            "_view_module_version": "1.2.0",
            "grid_template_areas": null,
            "object_position": null,
            "object_fit": null,
            "grid_auto_columns": null,
            "margin": null,
            "display": null,
            "left": null
          }
        },
        "391de2115b8c4e96868b86a7cc23b596": {
          "model_module": "@jupyter-widgets/controls",
          "model_name": "DescriptionStyleModel",
          "state": {
            "_view_name": "StyleView",
            "_model_name": "DescriptionStyleModel",
            "description_width": "",
            "_view_module": "@jupyter-widgets/base",
            "_model_module_version": "1.5.0",
            "_view_count": null,
            "_view_module_version": "1.2.0",
            "_model_module": "@jupyter-widgets/controls"
          }
        },
        "3f068f8949494059ba61d0524f0d98ff": {
          "model_module": "@jupyter-widgets/base",
          "model_name": "LayoutModel",
          "state": {
            "_view_name": "LayoutView",
            "grid_template_rows": null,
            "right": null,
            "justify_content": null,
            "_view_module": "@jupyter-widgets/base",
            "overflow": null,
            "_model_module_version": "1.2.0",
            "_view_count": null,
            "flex_flow": null,
            "width": null,
            "min_width": null,
            "border": null,
            "align_items": null,
            "bottom": null,
            "_model_module": "@jupyter-widgets/base",
            "top": null,
            "grid_column": null,
            "overflow_y": null,
            "overflow_x": null,
            "grid_auto_flow": null,
            "grid_area": null,
            "grid_template_columns": null,
            "flex": null,
            "_model_name": "LayoutModel",
            "justify_items": null,
            "grid_row": null,
            "max_height": null,
            "align_content": null,
            "visibility": null,
            "align_self": null,
            "height": null,
            "min_height": null,
            "padding": null,
            "grid_auto_rows": null,
            "grid_gap": null,
            "max_width": null,
            "order": null,
            "_view_module_version": "1.2.0",
            "grid_template_areas": null,
            "object_position": null,
            "object_fit": null,
            "grid_auto_columns": null,
            "margin": null,
            "display": null,
            "left": null
          }
        }
      }
    }
  },
  "cells": [
    {
      "cell_type": "markdown",
      "metadata": {
        "id": "view-in-github",
        "colab_type": "text"
      },
      "source": [
        "<a href=\"https://colab.research.google.com/github/kyalan/DataScienceFactory/blob/master/mnist_withGPU.ipynb\" target=\"_parent\"><img src=\"https://colab.research.google.com/assets/colab-badge.svg\" alt=\"Open In Colab\"/></a>"
      ]
    },
    {
      "cell_type": "code",
      "metadata": {
        "id": "wlMug0o7JxvK",
        "colab_type": "code",
        "colab": {
          "base_uri": "https://localhost:8080/",
          "height": 72
        },
        "outputId": "27102ee1-82bb-4b55-a9a2-721d54e65dd0"
      },
      "source": [
        "import os, sys\n",
        "import tensorflow as tf\n",
        "import tensorflow_datasets as tfds\n",
        "import pandas as pd\n",
        "import numpy as np\n",
        "from datetime import datetime as dt\n",
        "import sklearn.metrics\n",
        "import seaborn as sns\n",
        "\n",
        "from matplotlib import pyplot as plt"
      ],
      "execution_count": 1,
      "outputs": [
        {
          "output_type": "stream",
          "text": [
            "/usr/local/lib/python3.6/dist-packages/statsmodels/tools/_testing.py:19: FutureWarning: pandas.util.testing is deprecated. Use the functions in the public API at pandas.testing instead.\n",
            "  import pandas.util.testing as tm\n"
          ],
          "name": "stderr"
        }
      ]
    },
    {
      "cell_type": "code",
      "metadata": {
        "id": "B5SV1uE6KLO1",
        "colab_type": "code",
        "outputId": "172f3107-1b52-4454-a7a9-6d67beb21fc5",
        "colab": {
          "base_uri": "https://localhost:8080/",
          "height": 52
        }
      },
      "source": [
        "try:\n",
        "    %tensorflow_version 2.x\n",
        "except:\n",
        "    pass\n",
        "\n",
        "print(tf.__version__)\n",
        "print(tfds.__version__)"
      ],
      "execution_count": 2,
      "outputs": [
        {
          "output_type": "stream",
          "text": [
            "2.2.0-rc2\n",
            "2.1.0\n"
          ],
          "name": "stdout"
        }
      ]
    },
    {
      "cell_type": "markdown",
      "metadata": {
        "id": "nliClJXDJnmU",
        "colab_type": "text"
      },
      "source": [
        "# Import data"
      ]
    },
    {
      "cell_type": "code",
      "metadata": {
        "id": "i1fKbocWJwBd",
        "colab_type": "code",
        "outputId": "6a5834cb-7314-4d86-e278-ca0144d00b33",
        "colab": {
          "base_uri": "https://localhost:8080/",
          "height": 671,
          "referenced_widgets": [
            "23525742202f4e11889de89d0edf0736",
            "6b7da9bcef2242a08eba5389aa59b2da",
            "67888743f8dc43b2bad190ca6c519b49",
            "3c503ebdc87c4587b6d8ea2e201bf90e",
            "8266e9e52d9744b1b82ec1eda669d61f",
            "c92dac7344ae4e5f8452a600f371b93f",
            "391de2115b8c4e96868b86a7cc23b596",
            "3f068f8949494059ba61d0524f0d98ff"
          ]
        }
      },
      "source": [
        "(ds_train, ds_dev, ds_test), info = tfds.load('mnist', split=('train[:90%]', 'train[90%:]', 'test')\n",
        "    , shuffle_files=True, with_info=True, as_supervised=True)\n",
        "print(info)\n",
        "n_train, n_dev, n_test = len(list(ds_train)), len(list(ds_dev)), len(list(ds_test))\n",
        "print('no. of data for train, dev, test', n_train, n_dev, n_test)"
      ],
      "execution_count": 3,
      "outputs": [
        {
          "output_type": "stream",
          "text": [
            "\u001b[1mDownloading and preparing dataset mnist/3.0.0 (download: 11.06 MiB, generated: Unknown size, total: 11.06 MiB) to /root/tensorflow_datasets/mnist/3.0.0...\u001b[0m\n"
          ],
          "name": "stdout"
        },
        {
          "output_type": "stream",
          "text": [
            "WARNING:absl:Dataset mnist is hosted on GCS. It will automatically be downloaded to your\n",
            "local data directory. If you'd instead prefer to read directly from our public\n",
            "GCS bucket (recommended if you're running on GCP), you can instead set\n",
            "data_dir=gs://tfds-data/datasets.\n",
            "\n"
          ],
          "name": "stderr"
        },
        {
          "output_type": "display_data",
          "data": {
            "application/vnd.jupyter.widget-view+json": {
              "model_id": "23525742202f4e11889de89d0edf0736",
              "version_minor": 0,
              "version_major": 2
            },
            "text/plain": [
              "HBox(children=(IntProgress(value=0, description='Dl Completed...', max=4, style=ProgressStyle(description_widt…"
            ]
          },
          "metadata": {
            "tags": []
          }
        },
        {
          "output_type": "stream",
          "text": [
            "\n",
            "\n",
            "\u001b[1mDataset mnist downloaded and prepared to /root/tensorflow_datasets/mnist/3.0.0. Subsequent calls will reuse this data.\u001b[0m\n",
            "tfds.core.DatasetInfo(\n",
            "    name='mnist',\n",
            "    version=3.0.0,\n",
            "    description='The MNIST database of handwritten digits.',\n",
            "    homepage='http://yann.lecun.com/exdb/mnist/',\n",
            "    features=FeaturesDict({\n",
            "        'image': Image(shape=(28, 28, 1), dtype=tf.uint8),\n",
            "        'label': ClassLabel(shape=(), dtype=tf.int64, num_classes=10),\n",
            "    }),\n",
            "    total_num_examples=70000,\n",
            "    splits={\n",
            "        'test': 10000,\n",
            "        'train': 60000,\n",
            "    },\n",
            "    supervised_keys=('image', 'label'),\n",
            "    citation=\"\"\"@article{lecun2010mnist,\n",
            "      title={MNIST handwritten digit database},\n",
            "      author={LeCun, Yann and Cortes, Corinna and Burges, CJ},\n",
            "      journal={ATT Labs [Online]. Available: http://yann. lecun. com/exdb/mnist},\n",
            "      volume={2},\n",
            "      year={2010}\n",
            "    }\"\"\",\n",
            "    redistribution_info=,\n",
            ")\n",
            "\n",
            "no. of data for train, dev, test 54000 6000 10000\n"
          ],
          "name": "stdout"
        }
      ]
    },
    {
      "cell_type": "code",
      "metadata": {
        "id": "MXWr1d0GL0QU",
        "colab_type": "code",
        "outputId": "3ce9bd58-3a1a-4522-ca6a-c1a7c4bb1100",
        "colab": {
          "base_uri": "https://localhost:8080/",
          "height": 282
        }
      },
      "source": [
        "# check data structure\n",
        "for img, label in ds_train.take(1):\n",
        "    image = img.numpy().squeeze()\n",
        "    label = label.numpy()\n",
        "\n",
        "    print(\"Label: {}\".format(label), \"Image Max Value: {}\".format(image.max()))\n",
        "    plt.imshow(image, cmap=plt.cm.binary)\n",
        "    plt.show()"
      ],
      "execution_count": 4,
      "outputs": [
        {
          "output_type": "stream",
          "text": [
            "Label: 4 Image Max Value: 255\n"
          ],
          "name": "stdout"
        },
        {
          "output_type": "display_data",
          "data": {
            "image/png": "[encoded data removed]",
            "text/plain": [
              "<Figure size 432x288 with 1 Axes>"
            ]
          },
          "metadata": {
            "tags": []
          }
        }
      ]
    },
    {
      "cell_type": "markdown",
      "metadata": {
        "id": "yMQfOHNmNt_r",
        "colab_type": "text"
      },
      "source": [
        "# Pre-processing"
      ]
    },
    {
      "cell_type": "code",
      "metadata": {
        "id": "WPyQOe__OXqL",
        "colab_type": "code",
        "colab": {}
      },
      "source": [
        "def preprocessor(imgs, labels):\n",
        "    imgs = tf.cast(imgs, tf.float32)\n",
        "    imgs /= 255.0\n",
        "    return imgs, labels"
      ],
      "execution_count": 0,
      "outputs": []
    },
    {
      "cell_type": "code",
      "metadata": {
        "id": "azD50Lr8OFty",
        "colab_type": "code",
        "colab": {}
      },
      "source": [
        "ds_train = ds_train.map(preprocessor).batch(128)\n",
        "ds_dev = ds_dev.map(preprocessor).batch(128)\n",
        "ds_test = ds_test.map(preprocessor)"
      ],
      "execution_count": 0,
      "outputs": []
    },
    {
      "cell_type": "markdown",
      "metadata": {
        "id": "RorKRcXCOrFF",
        "colab_type": "text"
      },
      "source": [
        "# Modeling"
      ]
    },
    {
      "cell_type": "code",
      "metadata": {
        "id": "dEYFfR_qPBge",
        "colab_type": "code",
        "colab": {}
      },
      "source": [
        "def getModel():\n",
        "    model = tf.keras.Sequential(\n",
        "        [tf.keras.layers.Conv2D(16, kernel_size=3)\n",
        "        , tf.keras.layers.Conv2D(32, kernel_size=3)\n",
        "        , tf.keras.layers.Flatten()\n",
        "        , tf.keras.layers.Dense(128, activation='relu')\n",
        "        , tf.keras.layers.Dense(10, activation='softmax')\n",
        "        ]\n",
        "    )\n",
        "    model.compile(optimizer='adam', loss='SparseCategoricalCrossentropy', metrics=['acc'])\n",
        "    return model"
      ],
      "execution_count": 0,
      "outputs": []
    },
    {
      "cell_type": "code",
      "metadata": {
        "id": "7oGYbgo6PDXy",
        "colab_type": "code",
        "outputId": "9896415c-1afd-49fc-f170-7a4c305fe8b8",
        "colab": {
          "base_uri": "https://localhost:8080/",
          "height": 267
        }
      },
      "source": [
        "%%time\n",
        "\n",
        "model = getModel()\n",
        "history = model.fit(ds_train, epochs=5, validation_data=ds_dev)\n",
        "print(history.history)"
      ],
      "execution_count": 8,
      "outputs": [
        {
          "output_type": "stream",
          "text": [
            "Epoch 1/5\n",
            "422/422 [==============================] - 12s 27ms/step - loss: 0.2350 - acc: 0.9290 - val_loss: 0.1249 - val_acc: 0.9643\n",
            "Epoch 2/5\n",
            "422/422 [==============================] - 12s 28ms/step - loss: 0.0962 - acc: 0.9704 - val_loss: 0.1081 - val_acc: 0.9673\n",
            "Epoch 3/5\n",
            "422/422 [==============================] - 12s 28ms/step - loss: 0.0621 - acc: 0.9808 - val_loss: 0.1136 - val_acc: 0.9692\n",
            "Epoch 4/5\n",
            "422/422 [==============================] - 12s 28ms/step - loss: 0.0446 - acc: 0.9854 - val_loss: 0.1190 - val_acc: 0.9677\n",
            "Epoch 5/5\n",
            "422/422 [==============================] - 12s 28ms/step - loss: 0.0292 - acc: 0.9905 - val_loss: 0.1214 - val_acc: 0.9738\n",
            "{'loss': [0.2350367158651352, 0.09621943533420563, 0.06208956241607666, 0.0445697121322155, 0.029166994616389275], 'acc': [0.9289814829826355, 0.970370352268219, 0.9808148145675659, 0.985370397567749, 0.9904814958572388], 'val_loss': [0.12492334097623825, 0.10809549689292908, 0.11359037458896637, 0.11895855516195297, 0.1213989332318306], 'val_acc': [0.9643333554267883, 0.9673333168029785, 0.9691666960716248, 0.9676666855812073, 0.9738333225250244]}\n",
            "CPU times: user 1min 11s, sys: 31.7 s, total: 1min 43s\n",
            "Wall time: 1min 5s\n"
          ],
          "name": "stdout"
        }
      ]
    },
    {
      "cell_type": "markdown",
      "metadata": {
        "id": "6dFBghbplVMi",
        "colab_type": "text"
      },
      "source": [
        "# Model Evaluation"
      ]
    },
    {
      "cell_type": "code",
      "metadata": {
        "id": "xPaHftHJnApi",
        "colab_type": "code",
        "outputId": "e18694e6-c3a6-4c18-e035-f7afce5755af",
        "colab": {
          "base_uri": "https://localhost:8080/",
          "height": 70
        }
      },
      "source": [
        "eval = model.evaluate(ds_test.batch(128))\n",
        "print('Test data: Loss = {}, Accuracy = {}'.format(eval[0], eval[1]))\n",
        "print('Right Prediction: {}, Wrong Prediction: {}'.format(eval[1]*n_test, (1.0-eval[1])*n_test))"
      ],
      "execution_count": 9,
      "outputs": [
        {
          "output_type": "stream",
          "text": [
            "79/79 [==============================] - 2s 22ms/step - loss: 0.1267 - acc: 0.9711\n",
            "Test data: Loss = 0.1267467439174652, Accuracy = 0.9710999727249146\n",
            "Right Prediction: 9710.999727249146, Wrong Prediction: 289.0002727508545\n"
          ],
          "name": "stdout"
        }
      ]
    },
    {
      "cell_type": "code",
      "metadata": {
        "id": "gNKq0UfdSZ_X",
        "colab_type": "code",
        "outputId": "a0c7a930-eb92-4bff-c8bd-07984a131393",
        "colab": {
          "base_uri": "https://localhost:8080/",
          "height": 285
        }
      },
      "source": [
        "%%time\n",
        "\n",
        "test_labels = [x.numpy() for x in ds_test.map(lambda _, label: label)]\n",
        "test_pred = model.predict(ds_test.batch(128)).argmax(axis=1)"
      ],
      "execution_count": 10,
      "outputs": [
        {
          "output_type": "stream",
          "text": [
            "WARNING:tensorflow:AutoGraph could not transform <function <lambda> at 0x7fcf7d0bff28> and will run it as-is.\n",
            "Please report this to the TensorFlow team. When filing the bug, set the verbosity to 10 (on Linux, `export AUTOGRAPH_VERBOSITY=10`) and attach the full output.\n",
            "Cause: Unable to locate the source code of <function <lambda> at 0x7fcf7d0bff28>. Note that functions defined in certain environments, like the interactive Python shell do not expose their source code. If that is the case, you should to define them in a .py source file. If you are certain the code is graph-compatible, wrap the call using @tf.autograph.do_not_convert. Original error: could not get source code\n",
            "To silence this warning, decorate the function with @tf.autograph.experimental.do_not_convert\n"
          ],
          "name": "stdout"
        },
        {
          "output_type": "stream",
          "text": [
            "WARNING:tensorflow:AutoGraph could not transform <function <lambda> at 0x7fcf7d0bff28> and will run it as-is.\n",
            "Please report this to the TensorFlow team. When filing the bug, set the verbosity to 10 (on Linux, `export AUTOGRAPH_VERBOSITY=10`) and attach the full output.\n",
            "Cause: Unable to locate the source code of <function <lambda> at 0x7fcf7d0bff28>. Note that functions defined in certain environments, like the interactive Python shell do not expose their source code. If that is the case, you should to define them in a .py source file. If you are certain the code is graph-compatible, wrap the call using @tf.autograph.do_not_convert. Original error: could not get source code\n",
            "To silence this warning, decorate the function with @tf.autograph.experimental.do_not_convert\n"
          ],
          "name": "stderr"
        },
        {
          "output_type": "stream",
          "text": [
            "WARNING: AutoGraph could not transform <function <lambda> at 0x7fcf7d0bff28> and will run it as-is.\n",
            "Please report this to the TensorFlow team. When filing the bug, set the verbosity to 10 (on Linux, `export AUTOGRAPH_VERBOSITY=10`) and attach the full output.\n",
            "Cause: Unable to locate the source code of <function <lambda> at 0x7fcf7d0bff28>. Note that functions defined in certain environments, like the interactive Python shell do not expose their source code. If that is the case, you should to define them in a .py source file. If you are certain the code is graph-compatible, wrap the call using @tf.autograph.do_not_convert. Original error: could not get source code\n",
            "To silence this warning, decorate the function with @tf.autograph.experimental.do_not_convert\n",
            "CPU times: user 5.58 s, sys: 1.91 s, total: 7.49 s\n",
            "Wall time: 4.21 s\n"
          ],
          "name": "stdout"
        }
      ]
    },
    {
      "cell_type": "code",
      "metadata": {
        "id": "cY6m3mKocQqh",
        "colab_type": "code",
        "outputId": "6f05937a-49fd-4e44-e809-7d498220330a",
        "colab": {
          "base_uri": "https://localhost:8080/",
          "height": 501
        }
      },
      "source": [
        "cm = sklearn.metrics.confusion_matrix(test_labels, test_pred)\n",
        "fig = plt.figure(figsize=(9, 8))\n",
        "sns.heatmap(pd.DataFrame(cm, range(10), range(10)), annot=True, fmt='d')"
      ],
      "execution_count": 11,
      "outputs": [
        {
          "output_type": "execute_result",
          "data": {
            "text/plain": [
              "<matplotlib.axes._subplots.AxesSubplot at 0x7fcf7d15a208>"
            ]
          },
          "metadata": {
            "tags": []
          },
          "execution_count": 11
        },
        {
          "output_type": "display_data",
          "data": {
            "image/png": "[encoded data removed]",
            "text/plain": [
              "<Figure size 648x576 with 2 Axes>"
            ]
          },
          "metadata": {
            "tags": []
          }
        }
      ]
    },
    {
      "cell_type": "code",
      "metadata": {
        "id": "kFhgPuqBea5i",
        "colab_type": "code",
        "outputId": "622519d9-a211-4e32-ecb2-ddca87ad65ad",
        "colab": {
          "base_uri": "https://localhost:8080/",
          "height": 281
        }
      },
      "source": [
        "iimg = np.where(test_labels!=test_pred)[0][0]\n",
        "for img, label in ds_test.skip(iimg).take(1):\n",
        "    plt.imshow(img.numpy().squeeze() * 255.0)\n",
        "    plt.title('pred: {}, real: {}'.format(test_pred[iimg],test_labels[iimg]))"
      ],
      "execution_count": 12,
      "outputs": [
        {
          "output_type": "display_data",
          "data": {
            "image/png": "[encoded data removed]",
            "text/plain": [
              "<Figure size 432x288 with 1 Axes>"
            ]
          },
          "metadata": {
            "tags": []
          }
        }
      ]
    },
    {
      "cell_type": "code",
      "metadata": {
        "id": "iZSeXTF0o2Oi",
        "colab_type": "code",
        "colab": {}
      },
      "source": [
        ""
      ],
      "execution_count": 0,
      "outputs": []
    }
  ]
}