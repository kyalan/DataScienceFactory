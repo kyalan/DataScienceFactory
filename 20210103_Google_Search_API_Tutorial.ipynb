{
  "nbformat": 4,
  "nbformat_minor": 0,
  "metadata": {
    "colab": {
      "name": "Google Search API Tutorial.ipynb",
      "provenance": [],
      "collapsed_sections": [],
      "authorship_tag": "ABX9TyN/9aQwi3Ortv48MBv3uMos",
      "include_colab_link": true
    },
    "kernelspec": {
      "name": "python3",
      "display_name": "Python 3"
    }
  },
  "cells": [
    {
      "cell_type": "markdown",
      "metadata": {
        "id": "view-in-github",
        "colab_type": "text"
      },
      "source": [
        "<a href=\"https://colab.research.google.com/github/kyalan/DataScienceFactory/blob/master/20210103_Google_Search_API_Tutorial.ipynb\" target=\"_parent\"><img src=\"https://colab.research.google.com/assets/colab-badge.svg\" alt=\"Open In Colab\"/></a>"
      ]
    },
    {
      "cell_type": "markdown",
      "metadata": {
        "id": "NTje4__T7QEq"
      },
      "source": [
        "Reference is [here](https://stackoverflow.com/questions/37083058/programmatically-searching-google-in-python-using-custom-search)."
      ]
    },
    {
      "cell_type": "markdown",
      "metadata": {
        "id": "_YJjlgQXEUuF"
      },
      "source": [
        "# 1. Get an API key from Google Cloud Platform\r\n",
        "\r\n",
        "https://console.cloud.google.com/apis/credentials\r\n",
        "<br> and enable the API: \"Custom Search API\". [Link](https://console.developers.google.com/apis/library/customsearch.googleapis.com)"
      ]
    },
    {
      "cell_type": "markdown",
      "metadata": {
        "id": "zrhkTpmuFXRc"
      },
      "source": [
        "# 2. Setup Custom Search Engine so that you can search the entire web\r\n",
        "\r\n",
        "Reference is [here](https://stackoverflow.com/questions/4082966/what-are-the-alternatives-now-that-the-google-web-search-api-has-been-deprecated/11206266#11206266).\r\n",
        "\r\n",
        "1. From the Google Custom Search homepage ( http://www.google.com/cse/ ), click Create a Custom Search Engine.\r\n",
        "1. Type a name and description for your search engine.\r\n",
        "1. Under Define your search engine, in the Sites to Search box, enter at least one valid URL (For now, just put www.anyurl.com to get past this screen. More on this later ).\r\n",
        "1. Select the CSE edition you want and accept the Terms of Service, then click Next. Select the layout option you want, and then click Next.\r\n",
        "1. Click any of the links under the Next steps section to navigate to your Control panel.\r\n",
        "1. In the left-hand menu, under Control Panel, click Basics.\r\n",
        "1. In the Search Preferences section, select Search the entire web but emphasize included sites.\r\n",
        "1. Click Save Changes.\r\n",
        "1. In the left-hand menu, under Control Panel, click Sites.\r\n",
        "1. Delete the site you entered during the initial setup process.\r\n",
        "\r\n",
        "But note that - Google Custom Search gives you 100 queries per day for free.\r\n",
        "<br> Reference is [here](https://developers.google.com/custom-search/json-api/v1/overview#Pricing)."
      ]
    },
    {
      "cell_type": "markdown",
      "metadata": {
        "id": "tBrFumU47lOR"
      },
      "source": [
        "# 3. Install Google API client for Python"
      ]
    },
    {
      "cell_type": "code",
      "metadata": {
        "colab": {
          "base_uri": "https://localhost:8080/"
        },
        "id": "s1jGYqfG7suq",
        "outputId": "c4341f5a-9eb0-4615-d088-4343780c2190"
      },
      "source": [
        "!pip install google-api-python-client"
      ],
      "execution_count": 19,
      "outputs": [
        {
          "output_type": "stream",
          "text": [
            "Requirement already satisfied: google-api-python-client in /usr/local/lib/python3.6/dist-packages (1.7.12)\n",
            "Requirement already satisfied: httplib2<1dev,>=0.17.0 in /usr/local/lib/python3.6/dist-packages (from google-api-python-client) (0.17.4)\n",
            "Requirement already satisfied: google-auth-httplib2>=0.0.3 in /usr/local/lib/python3.6/dist-packages (from google-api-python-client) (0.0.4)\n",
            "Requirement already satisfied: uritemplate<4dev,>=3.0.0 in /usr/local/lib/python3.6/dist-packages (from google-api-python-client) (3.0.1)\n",
            "Requirement already satisfied: google-auth>=1.4.1 in /usr/local/lib/python3.6/dist-packages (from google-api-python-client) (1.17.2)\n",
            "Requirement already satisfied: six<2dev,>=1.6.1 in /usr/local/lib/python3.6/dist-packages (from google-api-python-client) (1.15.0)\n",
            "Requirement already satisfied: rsa<5,>=3.1.4; python_version >= \"3\" in /usr/local/lib/python3.6/dist-packages (from google-auth>=1.4.1->google-api-python-client) (4.6)\n",
            "Requirement already satisfied: pyasn1-modules>=0.2.1 in /usr/local/lib/python3.6/dist-packages (from google-auth>=1.4.1->google-api-python-client) (0.2.8)\n",
            "Requirement already satisfied: cachetools<5.0,>=2.0.0 in /usr/local/lib/python3.6/dist-packages (from google-auth>=1.4.1->google-api-python-client) (4.2.0)\n",
            "Requirement already satisfied: setuptools>=40.3.0 in /usr/local/lib/python3.6/dist-packages (from google-auth>=1.4.1->google-api-python-client) (51.0.0)\n",
            "Requirement already satisfied: pyasn1>=0.1.3 in /usr/local/lib/python3.6/dist-packages (from rsa<5,>=3.1.4; python_version >= \"3\"->google-auth>=1.4.1->google-api-python-client) (0.4.8)\n"
          ],
          "name": "stdout"
        }
      ]
    },
    {
      "cell_type": "markdown",
      "metadata": {
        "id": "6h8DIDA_8Bey"
      },
      "source": [
        "# 4. Input your keys"
      ]
    },
    {
      "cell_type": "code",
      "metadata": {
        "id": "H1h9FdTd8FMA"
      },
      "source": [
        "from googleapiclient.discovery import build\r\n",
        "import pprint\r\n",
        "\r\n",
        "my_api_key = input(\"Google API key: \")\r\n",
        "my_cse_id = input(\"Custom Search Engine ID (cse ID): \")\r\n"
      ],
      "execution_count": null,
      "outputs": []
    },
    {
      "cell_type": "markdown",
      "metadata": {
        "id": "rYOHyGFnNhyo"
      },
      "source": [
        "# The function, for any search usage.\r\n",
        "\r\n",
        "The **kwargs please refer to [here](https://developers.google.com/custom-search/v1/reference/rest/v1/cse/list)."
      ]
    },
    {
      "cell_type": "code",
      "metadata": {
        "id": "Aqp3nKHCNqWb"
      },
      "source": [
        "def google_search(search_term, api_key, cse_id, **kwargs):\r\n",
        "    service = build(\"customsearch\", \"v1\", developerKey=api_key)\r\n",
        "    res = service.cse().list(q=search_term, cx=cse_id, **kwargs).execute()\r\n",
        "    return res"
      ],
      "execution_count": 29,
      "outputs": []
    },
    {
      "cell_type": "markdown",
      "metadata": {
        "id": "8ymqfha-Nsvo"
      },
      "source": [
        "# 5. Google Search"
      ]
    },
    {
      "cell_type": "code",
      "metadata": {
        "colab": {
          "base_uri": "https://localhost:8080/"
        },
        "id": "6pDn2oODL4AT",
        "outputId": "5b173011-0aab-4a96-89dd-c5d16bed1072"
      },
      "source": [
        "results = google_search('鬼滅之刃', my_api_key, my_cse_id, num=3)\r\n",
        "for result in results['items']:\r\n",
        "    pprint.pprint(result)"
      ],
      "execution_count": 26,
      "outputs": [
        {
          "output_type": "stream",
          "text": [
            "{'cacheId': 'J0MCDQ6jm08J',\n",
            " 'displayLink': 'zh.wikipedia.org',\n",
            " 'formattedUrl': 'https://zh.wikipedia.org/zh-hant/鬼滅之刃',\n",
            " 'htmlFormattedUrl': 'https://zh.wikipedia.org/zh-hant/<b>鬼滅之刃</b>',\n",
            " 'htmlSnippet': '《<b>鬼滅之刃</b>》（日语：鬼滅の刃），簡稱《鬼滅》，是日本漫畫家吾峠呼世晴所<br>\\n'\n",
            "                '創作的奇幻漫畫作品，描述主角炭治郎為了尋求讓被變成鬼的妹妹復原的方法，踏<br>\\n'\n",
            "                '上斬&nbsp;...',\n",
            " 'htmlTitle': '<b>鬼滅之刃</b>- 维基百科，自由的百科全书',\n",
            " 'kind': 'customsearch#result',\n",
            " 'link': 'https://zh.wikipedia.org/zh-hant/%E9%AC%BC%E6%BB%85%E4%B9%8B%E5%88%83',\n",
            " 'pagemap': {'cse_image': [{'src': 'https://upload.wikimedia.org/wikipedia/commons/thumb/e/ec/Kimetsu_no_Yaiba_logo.svg/1200px-Kimetsu_no_Yaiba_logo.svg.png'}],\n",
            "             'cse_thumbnail': [{'height': '169',\n",
            "                                'src': 'https://encrypted-tbn1.gstatic.com/images?q=tbn:ANd9GcSj3_wAGoKchmC-iVjB6P-gtzfS3HovLDVHG2yPYxcg8wo6urfQD32_Z8Kf',\n",
            "                                'width': '298'}],\n",
            "             'metatags': [{'og:image': 'https://upload.wikimedia.org/wikipedia/commons/thumb/e/ec/Kimetsu_no_Yaiba_logo.svg/1200px-Kimetsu_no_Yaiba_logo.svg.png',\n",
            "                           'referrer': 'origin'}]},\n",
            " 'snippet': '《鬼滅之刃》（日语：鬼滅の刃），簡稱《鬼滅》，是日本漫畫家吾峠呼世晴所\\n'\n",
            "            '創作的奇幻漫畫作品，描述主角炭治郎為了尋求讓被變成鬼的妹妹復原的方法，踏\\n'\n",
            "            '上斬\\xa0...',\n",
            " 'title': '鬼滅之刃- 维基百科，自由的百科全书'}\n",
            "{'cacheId': 'DR1uP-y2pcgJ',\n",
            " 'displayLink': 'dcds.instructure.com',\n",
            " 'formattedUrl': 'https://dcds.instructure.com/.../879/Kimetsu_no_Yaiba_Mugen_Resshahen',\n",
            " 'htmlFormattedUrl': 'https://dcds.instructure.com/.../879/Kimetsu_no_Yaiba_Mugen_Resshahen',\n",
            " 'htmlSnippet': '《<b>鬼滅之刃</b>》是家人慘遭鬼殺害的少年－竈門炭治郎，為了讓化為鬼的妹妹禰豆子<br>\\n'\n",
            "                '恢復回人類，自願加入「鬼殺隊」的故事。以人鬼間的悲痛故事、驚心動魄的劍戰<br>\\n'\n",
            "                '，&nbsp;...',\n",
            " 'htmlTitle': '《<b>鬼滅之刃</b>劇場版無限列車篇》線上看~ 完整版【中文配音 ...',\n",
            " 'kind': 'customsearch#result',\n",
            " 'link': 'https://dcds.instructure.com/eportfolios/879/Kimetsu_no_Yaiba_Mugen_Resshahen',\n",
            " 'pagemap': {'cse_image': [{'src': 'https://dcds.instructure.com/users/7695/files/658595/preview?verifier=GUQAHNmTP95Z5Ba2VvVBwaF9ItjehNrwYC04GTs0'}],\n",
            "             'cse_thumbnail': [{'height': '251',\n",
            "                                'src': 'https://encrypted-tbn2.gstatic.com/images?q=tbn:ANd9GcQ2IhYfhZgiqmDwvGGyZXP_B2STYCWkIsrhC9ezI1MzEGwpjhB_CF0E15w',\n",
            "                                'width': '201'}],\n",
            "             'metatags': [{'apple-itunes-app': 'app-id=480883488',\n",
            "                           'theme-color': '#ffc72c',\n",
            "                           'viewport': 'width=device-width, initial-scale=1'}]},\n",
            " 'snippet': '《鬼滅之刃》是家人慘遭鬼殺害的少年－竈門炭治郎，為了讓化為鬼的妹妹禰豆子\\n'\n",
            "            '恢復回人類，自願加入「鬼殺隊」的故事。以人鬼間的悲痛故事、驚心動魄的劍戰\\n'\n",
            "            '，\\xa0...',\n",
            " 'title': '《鬼滅之刃劇場版無限列車篇》線上看~ 完整版【中文配音 ...'}\n",
            "{'cacheId': '897mQ5EnTF4J',\n",
            " 'displayLink': 'baike.baidu.com',\n",
            " 'formattedUrl': 'https://baike.baidu.com/item/鬼灭之刃',\n",
            " 'htmlFormattedUrl': 'https://baike.baidu.com/item/<b>鬼灭之刃</b>',\n",
            " 'htmlSnippet': '《<b>鬼灭之刃</b>》是日本漫画家吾峠呼世晴所著的少年漫画，自2016年2月15日—2020<br>\\n'\n",
            "                '年5月11日在集英社《周刊少年Jump》上连载。已完结。繁体中文版由东立出版&nbsp;...',\n",
            " 'htmlTitle': '<b>鬼灭之刃</b>（日本漫画家吾峠呼世晴著作漫画）_百度百科',\n",
            " 'kind': 'customsearch#result',\n",
            " 'link': 'https://baike.baidu.com/item/%E9%AC%BC%E7%81%AD%E4%B9%8B%E5%88%83',\n",
            " 'pagemap': {'metatags': [{'image': 'https://bkssl.bdimg.com/cms/static/baike.png',\n",
            "                           'referrer': 'always'}]},\n",
            " 'snippet': '《鬼灭之刃》是日本漫画家吾峠呼世晴所著的少年漫画，自2016年2月15日—2020\\n'\n",
            "            '年5月11日在集英社《周刊少年Jump》上连载。已完结。繁体中文版由东立出版\\xa0...',\n",
            " 'title': '鬼灭之刃（日本漫画家吾峠呼世晴著作漫画）_百度百科'}\n"
          ],
          "name": "stdout"
        }
      ]
    },
    {
      "cell_type": "markdown",
      "metadata": {
        "id": "xDMRmxxuNyvz"
      },
      "source": [
        "# 6. Google Image Search\r\n",
        "\r\n",
        "You should enable the \"Image Search\" in [Google Custom Search homepage]( http://www.google.com/cse/ )."
      ]
    },
    {
      "cell_type": "code",
      "metadata": {
        "id": "Ujj_rUw7N3jk"
      },
      "source": [
        "results = google_search('鬼滅之刃', my_api_key, my_cse_id, num=3, searchType=\"image\")"
      ],
      "execution_count": 32,
      "outputs": []
    },
    {
      "cell_type": "code",
      "metadata": {
        "colab": {
          "base_uri": "https://localhost:8080/"
        },
        "id": "j9jI9ASOQnrW",
        "outputId": "6e1c48a6-e79e-44b7-be44-80babc4e6951"
      },
      "source": [
        "results['items']"
      ],
      "execution_count": 35,
      "outputs": [
        {
          "output_type": "execute_result",
          "data": {
            "text/plain": [
              "[{'displayLink': 'portfolium.com',\n",
              "  'fileFormat': 'image/jpeg',\n",
              "  'htmlSnippet': '<b>鬼滅之刃</b>劇場版無限列車2020線上電影(香港版)~ 的完整| Portfolium',\n",
              "  'htmlTitle': '<b>鬼滅之刃</b>劇場版無限列車2020線上電影(香港版)~ 的完整| Portfolium',\n",
              "  'image': {'byteSize': 132705,\n",
              "   'contextLink': 'https://portfolium.com/entry/2020-2547',\n",
              "   'height': 540,\n",
              "   'thumbnailHeight': 83,\n",
              "   'thumbnailLink': 'https://encrypted-tbn0.gstatic.com/images?q=tbn:ANd9GcQ_ENwmiHMUN8-IHdKKly271Kl0QXB5kabny9SLLR06yUWFLLmCZBGQ3ok&s',\n",
              "   'thumbnailWidth': 148,\n",
              "   'width': 960},\n",
              "  'kind': 'customsearch#result',\n",
              "  'link': 'https://portfolium1.cloudimg.io/fit/960x540/c000000/https://cdn.portfolium.com/ugcs3%2Fv3%2Fproject_attachments%2F71341C71-4D17-47DA-ABF2-844A9047A202_KIMETSU-NO-YAIBA.JPG',\n",
              "  'mime': 'image/jpeg',\n",
              "  'snippet': '鬼滅之刃劇場版無限列車2020線上電影(香港版)~ 的完整| Portfolium',\n",
              "  'title': '鬼滅之刃劇場版無限列車2020線上電影(香港版)~ 的完整| Portfolium'},\n",
              " {'displayLink': 'dcds.instructure.com',\n",
              "  'fileFormat': 'image/',\n",
              "  'htmlSnippet': '<b>鬼滅之刃</b>劇場版無限列車篇》線上看~ 完整版【中文配音】: Kimetsu no ...',\n",
              "  'htmlTitle': '<b>鬼滅之刃</b>劇場版無限列車篇》線上看~ 完整版【中文配音】: Kimetsu no ...',\n",
              "  'image': {'byteSize': 158404,\n",
              "   'contextLink': 'https://dcds.instructure.com/eportfolios/879/Kimetsu_no_Yaiba_Mugen_Resshahen',\n",
              "   'height': 937,\n",
              "   'thumbnailHeight': 148,\n",
              "   'thumbnailLink': 'https://encrypted-tbn0.gstatic.com/images?q=tbn:ANd9GcRD0-luXCnr1qClb8iCFYuag0mhDPHGh_gWT5jBzJrMxpAQgW5YGtUK9Q&s',\n",
              "   'thumbnailWidth': 118,\n",
              "   'width': 750},\n",
              "  'kind': 'customsearch#result',\n",
              "  'link': 'https://dcds.instructure.com/users/7695/files/658595/preview?verifier=GUQAHNmTP95Z5Ba2VvVBwaF9ItjehNrwYC04GTs0',\n",
              "  'mime': 'image/',\n",
              "  'snippet': '鬼滅之刃劇場版無限列車篇》線上看~ 完整版【中文配音】: Kimetsu no ...',\n",
              "  'title': '鬼滅之刃劇場版無限列車篇》線上看~ 完整版【中文配音】: Kimetsu no ...'},\n",
              " {'displayLink': 'portfolium.com',\n",
              "  'fileFormat': 'image/jpeg',\n",
              "  'htmlSnippet': '<b>鬼滅之刃</b>劇場版無限列車篇~ 2020線上看台湾版| Portfolium',\n",
              "  'htmlTitle': '<b>鬼滅之刃</b>劇場版無限列車篇~ 2020線上看台湾版| Portfolium',\n",
              "  'image': {'byteSize': 167735,\n",
              "   'contextLink': 'https://portfolium.com/entry/2020-2480',\n",
              "   'height': 540,\n",
              "   'thumbnailHeight': 83,\n",
              "   'thumbnailLink': 'https://encrypted-tbn0.gstatic.com/images?q=tbn:ANd9GcTYvR5eCT-r2UnHtp2SF87AN8BOjrGmYWt_cGYQ9MEugUtPJAm3ZO-wYvA&s',\n",
              "   'thumbnailWidth': 148,\n",
              "   'width': 960},\n",
              "  'kind': 'customsearch#result',\n",
              "  'link': 'https://portfolium1.cloudimg.io/fit/960x540/c000000/https://cdn.portfolium.com/ugcs3%2Fv3%2Fproject_attachments%2FF19D5104-1056-4397-8E32-03402D1D0339_Kimetsu-no-Yaiba-Movie-Mugen-Train.jpg',\n",
              "  'mime': 'image/jpeg',\n",
              "  'snippet': '鬼滅之刃劇場版無限列車篇~ 2020線上看台湾版| Portfolium',\n",
              "  'title': '鬼滅之刃劇場版無限列車篇~ 2020線上看台湾版| Portfolium'}]"
            ]
          },
          "metadata": {
            "tags": []
          },
          "execution_count": 35
        }
      ]
    }
  ]
}