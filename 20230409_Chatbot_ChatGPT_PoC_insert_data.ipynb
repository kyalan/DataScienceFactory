{
  "nbformat": 4,
  "nbformat_minor": 0,
  "metadata": {
    "colab": {
      "provenance": [],
      "authorship_tag": "ABX9TyMlBCirxR/7zLvfl8fEx890",
      "include_colab_link": true
    },
    "kernelspec": {
      "name": "python3",
      "display_name": "Python 3"
    },
    "language_info": {
      "name": "python"
    }
  },
  "cells": [
    {
      "cell_type": "markdown",
      "metadata": {
        "id": "view-in-github",
        "colab_type": "text"
      },
      "source": [
        "<a href=\"https://colab.research.google.com/github/kyalan/DataScienceFactory/blob/master/20230409_Chatbot_ChatGPT_PoC_insert_data.ipynb\" target=\"_parent\"><img src=\"https://colab.research.google.com/assets/colab-badge.svg\" alt=\"Open In Colab\"/></a>"
      ]
    },
    {
      "cell_type": "markdown",
      "source": [
        "# Installing packages"
      ],
      "metadata": {
        "id": "ApN23cyZCFBR"
      }
    },
    {
      "cell_type": "code",
      "source": [
        "!pip install langchain\n",
        "!pip install openai\n",
        "!pip install chromadb\n",
        "!pip install tiktoken"
      ],
      "metadata": {
        "id": "lM5WsY1lB8k4"
      },
      "execution_count": null,
      "outputs": []
    },
    {
      "cell_type": "markdown",
      "source": [
        "# Import packages, and OpenAI key as well"
      ],
      "metadata": {
        "id": "mMAV2CSDC9eQ"
      }
    },
    {
      "cell_type": "code",
      "source": [
        "# Import necessary packages\n",
        "from pathlib import Path\n",
        "import os\n",
        "import openai\n",
        "\n",
        "# Delete the key after using\n",
        "os.environ['OPENAI_API_KEY'] = '<your OpenAI API key>'\n",
        "openai.api_key = os.getenv(\"OPENAI_API_KEY\")\n",
        "\n",
        "print(f'api base = {openai.api_base}')\n"
      ],
      "metadata": {
        "id": "cbI50bT4COWo",
        "colab": {
          "base_uri": "https://localhost:8080/"
        },
        "outputId": "564cc30b-0aee-4adc-fbc0-15dd5dcd2988"
      },
      "execution_count": 2,
      "outputs": [
        {
          "output_type": "stream",
          "name": "stdout",
          "text": [
            "api base = https://api.openai.com/v1\n"
          ]
        }
      ]
    },
    {
      "cell_type": "markdown",
      "source": [
        "# Loading Data via LangChain\n",
        "Ref: [CSV Loader](https://python.langchain.com/en/latest/modules/document_loaders/examples/csv.html)\n",
        "\n",
        "Ref: [Retrieval Question/Answering](https://python.langchain.com/en/latest/modules/chains/index_examples/vector_db_qa.html)"
      ],
      "metadata": {
        "id": "8QYbgugJ_GOn"
      }
    },
    {
      "cell_type": "code",
      "source": [
        "from langchain.document_loaders.csv_loader import CSVLoader\n",
        "\n",
        "try:\n",
        "    loader = CSVLoader(file_path='./df_vessel_mini.csv')\n",
        "    data = loader.load()\n",
        "except:\n",
        "    print('Have you uploaded df_vessel_mini.csv to your corresponding folder?')"
      ],
      "metadata": {
        "id": "jDLj--XUVPjg"
      },
      "execution_count": 3,
      "outputs": []
    },
    {
      "cell_type": "code",
      "source": [
        "# Preview the data into LLM\n",
        "data[0:5]"
      ],
      "metadata": {
        "colab": {
          "base_uri": "https://localhost:8080/"
        },
        "id": "VIgBj2itZPJQ",
        "outputId": "2506fd8b-6a1c-4a8a-95a5-af33fad525ce"
      },
      "execution_count": 5,
      "outputs": [
        {
          "output_type": "execute_result",
          "data": {
            "text/plain": [
              "[Document(page_content='vessel_key: 200\\nvessel_name: Australian Express\\nstatus: archived\\nimo_number: 8813609\\nowner: Vroon BV\\nvessel_type: Container Vessel\\nvessel_category: dry\\nshipyard_text: SHIN KURUSHIMA\\ndate_of_delivery: 1989-1-1\\ndate_of_takeover: 1998-1-12\\ntechgroup: Tech D1\\nflag: Republic of Panama, USA\\nsupdt_name: \\nmisc_engine: MITSUBISHI UEC\\nsummer_draft: 8.235\\nsummer_dwt: 14867\\ninternational_grt: 9949\\ninternational_nrt: 5492\\nparis2_vessel_key: 78\\nmcr_kw: \\nmcr_rpm: \\nemission_type: ', metadata={'source': './df_vessel_mini.csv', 'row': 0}),\n",
              " Document(page_content='vessel_key: 800\\nvessel_name: Chembulk Shanghai\\nstatus: archived\\nimo_number: 9223916\\nowner: Saito Shipping Co. Ltd.\\nvessel_type: Chemical Tanker\\nvessel_category: tanker\\nshipyard_text: FUKUOKA SHIPBUILDING CO.,LTD.\\ndate_of_delivery: 2000-1-1\\ndate_of_takeover: 2000-9-25\\ntechgroup: Tech T1\\nflag: Republic of Panama, USA\\nsupdt_name: \\nmisc_engine: AKASAKA UEC\\nsummer_draft: 9.56\\nsummer_dwt: 19500\\ninternational_grt: 11515\\ninternational_nrt: 6302\\nparis2_vessel_key: 75\\nmcr_kw: \\nmcr_rpm: \\nemission_type: ', metadata={'source': './df_vessel_mini.csv', 'row': 1}),\n",
              " Document(page_content='vessel_key: 1100\\nvessel_name: MSC Paraguay\\nstatus: archived\\nimo_number: 8408856\\nowner: Vroon BV\\nvessel_type: Container Vessel\\nvessel_category: dry\\nshipyard_text: HHI, Ulsan Korea\\ndate_of_delivery: 1985-1-1\\ndate_of_takeover: 1997-12-30\\ntechgroup: Tech D1\\nflag: Republic of Panama, USA\\nsupdt_name: \\nmisc_engine: B&W LMC\\nsummer_draft: 11.13\\nsummer_dwt: 33862\\ninternational_grt: 22667\\ninternational_nrt: 12131\\nparis2_vessel_key: 98\\nmcr_kw: \\nmcr_rpm: \\nemission_type: ', metadata={'source': './df_vessel_mini.csv', 'row': 2}),\n",
              " Document(page_content='vessel_key: 1200\\nvessel_name: Cumbrian Express\\nstatus: archived\\nimo_number: 8412560\\nowner: Vroon BV\\nvessel_type: Multi Purpose\\nvessel_category: dry\\nshipyard_text: MITSUBISHI HEAVY IND. SHIMONOSEKI JAPAN\\ndate_of_delivery: 1986-1-1\\ndate_of_takeover: 1995-3-17\\ntechgroup: Tech D1\\nflag: Republic of Panama, USA\\nsupdt_name: \\nmisc_engine: SULZER RTA\\nsummer_draft: 9.82\\nsummer_dwt: 20475\\ninternational_grt: 12963\\ninternational_nrt: 7928\\nparis2_vessel_key: 34\\nmcr_kw: \\nmcr_rpm: \\nemission_type: ', metadata={'source': './df_vessel_mini.csv', 'row': 3}),\n",
              " Document(page_content='vessel_key: 2000\\nvessel_name: Perth Bridge\\nstatus: handed_over\\nimo_number: 9236341\\nowner: Shoei Kisen Kaisha Ltd.\\nvessel_type: Container Vessel\\nvessel_category: dry\\nshipyard_text: IWAGI ZOSEN CO. LTD - JAPAN\\ndate_of_delivery: 2000-9-22\\ndate_of_takeover: 2000-9-22\\ntechgroup: SG Tech D2\\nflag: Republic of Panama, USA\\nsupdt_name: \\nmisc_engine: B&W SMC\\nsummer_draft: 9.065\\nsummer_dwt: 17946\\ninternational_grt: 13245\\ninternational_nrt: 7347\\nparis2_vessel_key: 31\\nmcr_kw: \\nmcr_rpm: \\nemission_type: ', metadata={'source': './df_vessel_mini.csv', 'row': 4})]"
            ]
          },
          "metadata": {},
          "execution_count": 5
        }
      ]
    },
    {
      "cell_type": "code",
      "source": [
        "# How large is the data\n",
        "import sys\n",
        "sys.getsizeof(data)"
      ],
      "metadata": {
        "colab": {
          "base_uri": "https://localhost:8080/"
        },
        "id": "klNlH8M2b4vs",
        "outputId": "f94c691c-edb6-4724-d746-d3e31a3f5804"
      },
      "execution_count": 6,
      "outputs": [
        {
          "output_type": "execute_result",
          "data": {
            "text/plain": [
              "14360"
            ]
          },
          "metadata": {},
          "execution_count": 6
        }
      ]
    },
    {
      "cell_type": "markdown",
      "source": [
        "### Constructing Q&A Bot"
      ],
      "metadata": {
        "id": "tWHCWbtua4l3"
      }
    },
    {
      "cell_type": "code",
      "source": [
        "from langchain.embeddings.openai import OpenAIEmbeddings\n",
        "from langchain.vectorstores import Chroma\n",
        "from langchain.text_splitter import CharacterTextSplitter\n",
        "from langchain.llms import OpenAI\n",
        "from langchain.chains import RetrievalQA"
      ],
      "metadata": {
        "id": "AkDyFotuZVum"
      },
      "execution_count": 7,
      "outputs": []
    },
    {
      "cell_type": "code",
      "source": [
        "text_splitter = CharacterTextSplitter(chunk_size=1000, chunk_overlap=0)\n",
        "texts = text_splitter.split_documents(data)\n",
        "\n",
        "embeddings = OpenAIEmbeddings()\n",
        "docsearch = Chroma.from_documents(texts, embeddings)"
      ],
      "metadata": {
        "colab": {
          "base_uri": "https://localhost:8080/"
        },
        "id": "JVwzul9Xacif",
        "outputId": "4155f8ad-a9f9-4d45-9c6a-5449e55688b9"
      },
      "execution_count": 10,
      "outputs": [
        {
          "output_type": "stream",
          "name": "stderr",
          "text": [
            "WARNING:chromadb:Using embedded DuckDB without persistence: data will be transient\n"
          ]
        }
      ]
    },
    {
      "cell_type": "code",
      "source": [
        "qa = RetrievalQA.from_chain_type(llm=OpenAI(), chain_type=\"stuff\", retriever=docsearch.as_retriever())"
      ],
      "metadata": {
        "id": "nO3lCFMPambw"
      },
      "execution_count": 11,
      "outputs": []
    },
    {
      "cell_type": "markdown",
      "source": [
        "### Responsing from Q&A Bot, with OpenAI"
      ],
      "metadata": {
        "id": "_BwzIGFjbFtf"
      }
    },
    {
      "cell_type": "code",
      "source": [
        "query = \"What is the vessel key and deasweight of Explorer Asia?\"\n",
        "result = qa.run(query)"
      ],
      "metadata": {
        "id": "4xwz2hnObLRH"
      },
      "execution_count": 16,
      "outputs": []
    },
    {
      "cell_type": "code",
      "source": [
        "result"
      ],
      "metadata": {
        "colab": {
          "base_uri": "https://localhost:8080/",
          "height": 35
        },
        "id": "ATdr9RpZb9vw",
        "outputId": "6dfafbc1-bfd1-473e-d439-1076f60c677d"
      },
      "execution_count": 17,
      "outputs": [
        {
          "output_type": "execute_result",
          "data": {
            "text/plain": [
              "' The vessel key for Explorer Asia is 5267 and its deadweight is 81093.9.'"
            ],
            "application/vnd.google.colaboratory.intrinsic+json": {
              "type": "string"
            }
          },
          "metadata": {},
          "execution_count": 17
        }
      ]
    },
    {
      "cell_type": "code",
      "source": [
        "qa.run(\"What is the owner of Explorer Asia?\")"
      ],
      "metadata": {
        "colab": {
          "base_uri": "https://localhost:8080/",
          "height": 35
        },
        "id": "ZbOs91aMcg9U",
        "outputId": "618e628c-0497-43bd-c634-04c813a43fa5"
      },
      "execution_count": 18,
      "outputs": [
        {
          "output_type": "execute_result",
          "data": {
            "text/plain": [
              "' The owner of Explorer Asia is Caravel Group Limited.'"
            ],
            "application/vnd.google.colaboratory.intrinsic+json": {
              "type": "string"
            }
          },
          "metadata": {},
          "execution_count": 18
        }
      ]
    }
  ]
}